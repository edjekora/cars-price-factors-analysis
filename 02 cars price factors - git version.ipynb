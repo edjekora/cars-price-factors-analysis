{
 "cells": [
  {
   "cell_type": "markdown",
   "metadata": {},
   "source": [
    "# Research on car sales ads\n",
    "\n",
    "You're an analyst at Crankshaft List. Hundreds of free advertisements for vehicles are published on your site every day.\n",
    "\n",
    "You need to study data collected over the last few years and determine which factors influence the price of a vehicle. "
   ]
  },
  {
   "cell_type": "markdown",
   "metadata": {},
   "source": [
    "# Table of Contents:\n",
    "1. [Open the data and study the general information](#Open-the-data-file-and-study-the-general-information.)\n",
    "2. [Data preprocessing](#Data-preprocessing)<br>\n",
    "    [Make calculations and add them to the table](#Make-calculations-and-add-them-to-the-table)\n",
    "3. [Exploratory data analysis](#Carry-out-exploratory-data-analysis)\n",
    "4. [Price factors analysis](#Prices-analysis)\n",
    "5. [Overall conclusion](#Overall-conclusion)"
   ]
  },
  {
   "cell_type": "code",
   "execution_count": 1,
   "metadata": {},
   "outputs": [],
   "source": [
    "# libraries cell\n",
    "import pandas as pd\n",
    "import matplotlib.pyplot as plt\n",
    "import sidetable"
   ]
  },
  {
   "cell_type": "markdown",
   "metadata": {},
   "source": [
    "## Open the data file and study the general information. "
   ]
  },
  {
   "cell_type": "code",
   "execution_count": 2,
   "metadata": {},
   "outputs": [],
   "source": [
    "try:\n",
    "    data_raw = pd.read_csv('/datasets/vehicles_us.csv') # open file on hub\n",
    "except: \n",
    "    data_raw = pd.read_csv('datasets/vehicles_us.csv') # open file locally\n",
    "    "
   ]
  },
  {
   "cell_type": "code",
   "execution_count": 3,
   "metadata": {},
   "outputs": [
    {
     "name": "stdout",
     "output_type": "stream",
     "text": [
      "<class 'pandas.core.frame.DataFrame'>\n",
      "RangeIndex: 51525 entries, 0 to 51524\n",
      "Data columns (total 13 columns):\n",
      " #   Column        Non-Null Count  Dtype  \n",
      "---  ------        --------------  -----  \n",
      " 0   price         51525 non-null  int64  \n",
      " 1   model_year    47906 non-null  float64\n",
      " 2   model         51525 non-null  object \n",
      " 3   condition     51525 non-null  object \n",
      " 4   cylinders     46265 non-null  float64\n",
      " 5   fuel          51525 non-null  object \n",
      " 6   odometer      43633 non-null  float64\n",
      " 7   transmission  51525 non-null  object \n",
      " 8   type          51525 non-null  object \n",
      " 9   paint_color   42258 non-null  object \n",
      " 10  is_4wd        25572 non-null  float64\n",
      " 11  date_posted   51525 non-null  object \n",
      " 12  days_listed   51525 non-null  int64  \n",
      "dtypes: float64(4), int64(2), object(7)\n",
      "memory usage: 5.1+ MB\n",
      "None\n",
      "\n"
     ]
    },
    {
     "data": {
      "text/html": [
       "<div>\n",
       "<style scoped>\n",
       "    .dataframe tbody tr th:only-of-type {\n",
       "        vertical-align: middle;\n",
       "    }\n",
       "\n",
       "    .dataframe tbody tr th {\n",
       "        vertical-align: top;\n",
       "    }\n",
       "\n",
       "    .dataframe thead th {\n",
       "        text-align: right;\n",
       "    }\n",
       "</style>\n",
       "<table border=\"1\" class=\"dataframe\">\n",
       "  <thead>\n",
       "    <tr style=\"text-align: right;\">\n",
       "      <th></th>\n",
       "      <th>price</th>\n",
       "      <th>model_year</th>\n",
       "      <th>model</th>\n",
       "      <th>condition</th>\n",
       "      <th>cylinders</th>\n",
       "      <th>fuel</th>\n",
       "      <th>odometer</th>\n",
       "      <th>transmission</th>\n",
       "      <th>type</th>\n",
       "      <th>paint_color</th>\n",
       "      <th>is_4wd</th>\n",
       "      <th>date_posted</th>\n",
       "      <th>days_listed</th>\n",
       "    </tr>\n",
       "  </thead>\n",
       "  <tbody>\n",
       "    <tr>\n",
       "      <th>0</th>\n",
       "      <td>9400</td>\n",
       "      <td>2011.0</td>\n",
       "      <td>bmw x5</td>\n",
       "      <td>good</td>\n",
       "      <td>6.0</td>\n",
       "      <td>gas</td>\n",
       "      <td>145000.0</td>\n",
       "      <td>automatic</td>\n",
       "      <td>SUV</td>\n",
       "      <td>NaN</td>\n",
       "      <td>1.0</td>\n",
       "      <td>2018-06-23</td>\n",
       "      <td>19</td>\n",
       "    </tr>\n",
       "    <tr>\n",
       "      <th>1</th>\n",
       "      <td>25500</td>\n",
       "      <td>NaN</td>\n",
       "      <td>ford f-150</td>\n",
       "      <td>good</td>\n",
       "      <td>6.0</td>\n",
       "      <td>gas</td>\n",
       "      <td>88705.0</td>\n",
       "      <td>automatic</td>\n",
       "      <td>pickup</td>\n",
       "      <td>white</td>\n",
       "      <td>1.0</td>\n",
       "      <td>2018-10-19</td>\n",
       "      <td>50</td>\n",
       "    </tr>\n",
       "    <tr>\n",
       "      <th>2</th>\n",
       "      <td>5500</td>\n",
       "      <td>2013.0</td>\n",
       "      <td>hyundai sonata</td>\n",
       "      <td>like new</td>\n",
       "      <td>4.0</td>\n",
       "      <td>gas</td>\n",
       "      <td>110000.0</td>\n",
       "      <td>automatic</td>\n",
       "      <td>sedan</td>\n",
       "      <td>red</td>\n",
       "      <td>NaN</td>\n",
       "      <td>2019-02-07</td>\n",
       "      <td>79</td>\n",
       "    </tr>\n",
       "    <tr>\n",
       "      <th>3</th>\n",
       "      <td>1500</td>\n",
       "      <td>2003.0</td>\n",
       "      <td>ford f-150</td>\n",
       "      <td>fair</td>\n",
       "      <td>8.0</td>\n",
       "      <td>gas</td>\n",
       "      <td>NaN</td>\n",
       "      <td>automatic</td>\n",
       "      <td>pickup</td>\n",
       "      <td>NaN</td>\n",
       "      <td>NaN</td>\n",
       "      <td>2019-03-22</td>\n",
       "      <td>9</td>\n",
       "    </tr>\n",
       "    <tr>\n",
       "      <th>4</th>\n",
       "      <td>14900</td>\n",
       "      <td>2017.0</td>\n",
       "      <td>chrysler 200</td>\n",
       "      <td>excellent</td>\n",
       "      <td>4.0</td>\n",
       "      <td>gas</td>\n",
       "      <td>80903.0</td>\n",
       "      <td>automatic</td>\n",
       "      <td>sedan</td>\n",
       "      <td>black</td>\n",
       "      <td>NaN</td>\n",
       "      <td>2019-04-02</td>\n",
       "      <td>28</td>\n",
       "    </tr>\n",
       "  </tbody>\n",
       "</table>\n",
       "</div>"
      ],
      "text/plain": [
       "   price  model_year           model  condition  cylinders fuel  odometer  \\\n",
       "0   9400      2011.0          bmw x5       good        6.0  gas  145000.0   \n",
       "1  25500         NaN      ford f-150       good        6.0  gas   88705.0   \n",
       "2   5500      2013.0  hyundai sonata   like new        4.0  gas  110000.0   \n",
       "3   1500      2003.0      ford f-150       fair        8.0  gas       NaN   \n",
       "4  14900      2017.0    chrysler 200  excellent        4.0  gas   80903.0   \n",
       "\n",
       "  transmission    type paint_color  is_4wd date_posted  days_listed  \n",
       "0    automatic     SUV         NaN     1.0  2018-06-23           19  \n",
       "1    automatic  pickup       white     1.0  2018-10-19           50  \n",
       "2    automatic   sedan         red     NaN  2019-02-07           79  \n",
       "3    automatic  pickup         NaN     NaN  2019-03-22            9  \n",
       "4    automatic   sedan       black     NaN  2019-04-02           28  "
      ]
     },
     "execution_count": 3,
     "metadata": {},
     "output_type": "execute_result"
    }
   ],
   "source": [
    "# looking at the data\n",
    "print(data_raw.info())\n",
    "print()\n",
    "data_raw.head()"
   ]
  },
  {
   "cell_type": "code",
   "execution_count": 4,
   "metadata": {},
   "outputs": [
    {
     "data": {
      "text/html": [
       "<div>\n",
       "<style scoped>\n",
       "    .dataframe tbody tr th:only-of-type {\n",
       "        vertical-align: middle;\n",
       "    }\n",
       "\n",
       "    .dataframe tbody tr th {\n",
       "        vertical-align: top;\n",
       "    }\n",
       "\n",
       "    .dataframe thead th {\n",
       "        text-align: right;\n",
       "    }\n",
       "</style>\n",
       "<table border=\"1\" class=\"dataframe\">\n",
       "  <thead>\n",
       "    <tr style=\"text-align: right;\">\n",
       "      <th></th>\n",
       "      <th>price</th>\n",
       "      <th>model_year</th>\n",
       "      <th>cylinders</th>\n",
       "      <th>odometer</th>\n",
       "      <th>is_4wd</th>\n",
       "      <th>days_listed</th>\n",
       "    </tr>\n",
       "  </thead>\n",
       "  <tbody>\n",
       "    <tr>\n",
       "      <th>count</th>\n",
       "      <td>51525.000000</td>\n",
       "      <td>47906.000000</td>\n",
       "      <td>46265.000000</td>\n",
       "      <td>43633.000000</td>\n",
       "      <td>25572.0</td>\n",
       "      <td>51525.00000</td>\n",
       "    </tr>\n",
       "    <tr>\n",
       "      <th>mean</th>\n",
       "      <td>12132.464920</td>\n",
       "      <td>2009.750470</td>\n",
       "      <td>6.125235</td>\n",
       "      <td>115553.461738</td>\n",
       "      <td>1.0</td>\n",
       "      <td>39.55476</td>\n",
       "    </tr>\n",
       "    <tr>\n",
       "      <th>std</th>\n",
       "      <td>10040.803015</td>\n",
       "      <td>6.282065</td>\n",
       "      <td>1.660360</td>\n",
       "      <td>65094.611341</td>\n",
       "      <td>0.0</td>\n",
       "      <td>28.20427</td>\n",
       "    </tr>\n",
       "    <tr>\n",
       "      <th>min</th>\n",
       "      <td>1.000000</td>\n",
       "      <td>1908.000000</td>\n",
       "      <td>3.000000</td>\n",
       "      <td>0.000000</td>\n",
       "      <td>1.0</td>\n",
       "      <td>0.00000</td>\n",
       "    </tr>\n",
       "    <tr>\n",
       "      <th>25%</th>\n",
       "      <td>5000.000000</td>\n",
       "      <td>2006.000000</td>\n",
       "      <td>4.000000</td>\n",
       "      <td>70000.000000</td>\n",
       "      <td>1.0</td>\n",
       "      <td>19.00000</td>\n",
       "    </tr>\n",
       "    <tr>\n",
       "      <th>50%</th>\n",
       "      <td>9000.000000</td>\n",
       "      <td>2011.000000</td>\n",
       "      <td>6.000000</td>\n",
       "      <td>113000.000000</td>\n",
       "      <td>1.0</td>\n",
       "      <td>33.00000</td>\n",
       "    </tr>\n",
       "    <tr>\n",
       "      <th>75%</th>\n",
       "      <td>16839.000000</td>\n",
       "      <td>2014.000000</td>\n",
       "      <td>8.000000</td>\n",
       "      <td>155000.000000</td>\n",
       "      <td>1.0</td>\n",
       "      <td>53.00000</td>\n",
       "    </tr>\n",
       "    <tr>\n",
       "      <th>max</th>\n",
       "      <td>375000.000000</td>\n",
       "      <td>2019.000000</td>\n",
       "      <td>12.000000</td>\n",
       "      <td>990000.000000</td>\n",
       "      <td>1.0</td>\n",
       "      <td>271.00000</td>\n",
       "    </tr>\n",
       "  </tbody>\n",
       "</table>\n",
       "</div>"
      ],
      "text/plain": [
       "               price    model_year     cylinders       odometer   is_4wd  \\\n",
       "count   51525.000000  47906.000000  46265.000000   43633.000000  25572.0   \n",
       "mean    12132.464920   2009.750470      6.125235  115553.461738      1.0   \n",
       "std     10040.803015      6.282065      1.660360   65094.611341      0.0   \n",
       "min         1.000000   1908.000000      3.000000       0.000000      1.0   \n",
       "25%      5000.000000   2006.000000      4.000000   70000.000000      1.0   \n",
       "50%      9000.000000   2011.000000      6.000000  113000.000000      1.0   \n",
       "75%     16839.000000   2014.000000      8.000000  155000.000000      1.0   \n",
       "max    375000.000000   2019.000000     12.000000  990000.000000      1.0   \n",
       "\n",
       "       days_listed  \n",
       "count  51525.00000  \n",
       "mean      39.55476  \n",
       "std       28.20427  \n",
       "min        0.00000  \n",
       "25%       19.00000  \n",
       "50%       33.00000  \n",
       "75%       53.00000  \n",
       "max      271.00000  "
      ]
     },
     "execution_count": 4,
     "metadata": {},
     "output_type": "execute_result"
    }
   ],
   "source": [
    "data_raw.describe() # numeric columns"
   ]
  },
  {
   "cell_type": "code",
   "execution_count": 5,
   "metadata": {},
   "outputs": [
    {
     "data": {
      "text/html": [
       "<div>\n",
       "<style scoped>\n",
       "    .dataframe tbody tr th:only-of-type {\n",
       "        vertical-align: middle;\n",
       "    }\n",
       "\n",
       "    .dataframe tbody tr th {\n",
       "        vertical-align: top;\n",
       "    }\n",
       "\n",
       "    .dataframe thead th {\n",
       "        text-align: right;\n",
       "    }\n",
       "</style>\n",
       "<table border=\"1\" class=\"dataframe\">\n",
       "  <thead>\n",
       "    <tr style=\"text-align: right;\">\n",
       "      <th></th>\n",
       "      <th>model</th>\n",
       "      <th>condition</th>\n",
       "      <th>fuel</th>\n",
       "      <th>transmission</th>\n",
       "      <th>type</th>\n",
       "      <th>paint_color</th>\n",
       "      <th>date_posted</th>\n",
       "    </tr>\n",
       "  </thead>\n",
       "  <tbody>\n",
       "    <tr>\n",
       "      <th>count</th>\n",
       "      <td>51525</td>\n",
       "      <td>51525</td>\n",
       "      <td>51525</td>\n",
       "      <td>51525</td>\n",
       "      <td>51525</td>\n",
       "      <td>42258</td>\n",
       "      <td>51525</td>\n",
       "    </tr>\n",
       "    <tr>\n",
       "      <th>unique</th>\n",
       "      <td>100</td>\n",
       "      <td>6</td>\n",
       "      <td>5</td>\n",
       "      <td>3</td>\n",
       "      <td>13</td>\n",
       "      <td>12</td>\n",
       "      <td>354</td>\n",
       "    </tr>\n",
       "    <tr>\n",
       "      <th>top</th>\n",
       "      <td>ford f-150</td>\n",
       "      <td>excellent</td>\n",
       "      <td>gas</td>\n",
       "      <td>automatic</td>\n",
       "      <td>SUV</td>\n",
       "      <td>white</td>\n",
       "      <td>2019-03-17</td>\n",
       "    </tr>\n",
       "    <tr>\n",
       "      <th>freq</th>\n",
       "      <td>2796</td>\n",
       "      <td>24773</td>\n",
       "      <td>47288</td>\n",
       "      <td>46902</td>\n",
       "      <td>12405</td>\n",
       "      <td>10029</td>\n",
       "      <td>186</td>\n",
       "    </tr>\n",
       "  </tbody>\n",
       "</table>\n",
       "</div>"
      ],
      "text/plain": [
       "             model  condition   fuel transmission   type paint_color  \\\n",
       "count        51525      51525  51525        51525  51525       42258   \n",
       "unique         100          6      5            3     13          12   \n",
       "top     ford f-150  excellent    gas    automatic    SUV       white   \n",
       "freq          2796      24773  47288        46902  12405       10029   \n",
       "\n",
       "       date_posted  \n",
       "count        51525  \n",
       "unique         354  \n",
       "top     2019-03-17  \n",
       "freq           186  "
      ]
     },
     "execution_count": 5,
     "metadata": {},
     "output_type": "execute_result"
    }
   ],
   "source": [
    "data_raw.describe(include = [object]) # object columns"
   ]
  },
  {
   "cell_type": "markdown",
   "metadata": {},
   "source": [
    "### Conclusion"
   ]
  },
  {
   "cell_type": "markdown",
   "metadata": {},
   "source": [
    "Looks like I have both quantitative and categorical columns to adress to. Some column's values are missing:\n",
    "\n",
    "* Categorical: model_year, cylinders, paint_color - I will have to look for reason and check if I can replace them with other values. If not, I will replace them with string that indicates I don't have that info, like 'Unknown'.\n",
    "* Quantitative: only odometer. After closer look at this column I will check whether to replace missing values with mean or median and by what category.\n",
    "* is_4wd: looks like boolean category to me, and I don't think it has any actual missing values. Most likely it has 1.0 for 'Yes' and an empty cell for 'No'.\n",
    "\n",
    "Most likely, missing values wasn't mandatory to fill from the beginning, so publishers of those ads didn't fill them for various reasons: didn't know how to, or just didn't want to.\n",
    "\n",
    "Price column has an unreasonable low minimum low value. I suggest it appears because it was mandatory to enter the price and not everyone wanted to publish it openly, so they just entered lowest number possible.\n",
    "\n",
    "Also I see needlesly 'float'ed columns, which I would prefer to see as 'int' type.\n",
    "\n",
    "<br><br>\n",
    "[^^^ Back to the Table of Contents ^^^](#Table-of-Contents:)"
   ]
  },
  {
   "cell_type": "markdown",
   "metadata": {},
   "source": [
    "## Data preprocessing"
   ]
  },
  {
   "cell_type": "code",
   "execution_count": 6,
   "metadata": {},
   "outputs": [
    {
     "data": {
      "text/html": [
       "<div>\n",
       "<style scoped>\n",
       "    .dataframe tbody tr th:only-of-type {\n",
       "        vertical-align: middle;\n",
       "    }\n",
       "\n",
       "    .dataframe tbody tr th {\n",
       "        vertical-align: top;\n",
       "    }\n",
       "\n",
       "    .dataframe thead th {\n",
       "        text-align: right;\n",
       "    }\n",
       "</style>\n",
       "<table border=\"1\" class=\"dataframe\">\n",
       "  <thead>\n",
       "    <tr style=\"text-align: right;\">\n",
       "      <th></th>\n",
       "      <th>missing</th>\n",
       "      <th>total</th>\n",
       "      <th>percent</th>\n",
       "    </tr>\n",
       "  </thead>\n",
       "  <tbody>\n",
       "    <tr>\n",
       "      <th>is_4wd</th>\n",
       "      <td>25953</td>\n",
       "      <td>51525</td>\n",
       "      <td>50.369723</td>\n",
       "    </tr>\n",
       "    <tr>\n",
       "      <th>paint_color</th>\n",
       "      <td>9267</td>\n",
       "      <td>51525</td>\n",
       "      <td>17.985444</td>\n",
       "    </tr>\n",
       "    <tr>\n",
       "      <th>odometer</th>\n",
       "      <td>7892</td>\n",
       "      <td>51525</td>\n",
       "      <td>15.316836</td>\n",
       "    </tr>\n",
       "    <tr>\n",
       "      <th>cylinders</th>\n",
       "      <td>5260</td>\n",
       "      <td>51525</td>\n",
       "      <td>10.208637</td>\n",
       "    </tr>\n",
       "    <tr>\n",
       "      <th>model_year</th>\n",
       "      <td>3619</td>\n",
       "      <td>51525</td>\n",
       "      <td>7.023775</td>\n",
       "    </tr>\n",
       "    <tr>\n",
       "      <th>price</th>\n",
       "      <td>0</td>\n",
       "      <td>51525</td>\n",
       "      <td>0.000000</td>\n",
       "    </tr>\n",
       "    <tr>\n",
       "      <th>model</th>\n",
       "      <td>0</td>\n",
       "      <td>51525</td>\n",
       "      <td>0.000000</td>\n",
       "    </tr>\n",
       "    <tr>\n",
       "      <th>condition</th>\n",
       "      <td>0</td>\n",
       "      <td>51525</td>\n",
       "      <td>0.000000</td>\n",
       "    </tr>\n",
       "    <tr>\n",
       "      <th>fuel</th>\n",
       "      <td>0</td>\n",
       "      <td>51525</td>\n",
       "      <td>0.000000</td>\n",
       "    </tr>\n",
       "    <tr>\n",
       "      <th>transmission</th>\n",
       "      <td>0</td>\n",
       "      <td>51525</td>\n",
       "      <td>0.000000</td>\n",
       "    </tr>\n",
       "    <tr>\n",
       "      <th>type</th>\n",
       "      <td>0</td>\n",
       "      <td>51525</td>\n",
       "      <td>0.000000</td>\n",
       "    </tr>\n",
       "    <tr>\n",
       "      <th>date_posted</th>\n",
       "      <td>0</td>\n",
       "      <td>51525</td>\n",
       "      <td>0.000000</td>\n",
       "    </tr>\n",
       "    <tr>\n",
       "      <th>days_listed</th>\n",
       "      <td>0</td>\n",
       "      <td>51525</td>\n",
       "      <td>0.000000</td>\n",
       "    </tr>\n",
       "  </tbody>\n",
       "</table>\n",
       "</div>"
      ],
      "text/plain": [
       "              missing  total    percent\n",
       "is_4wd          25953  51525  50.369723\n",
       "paint_color      9267  51525  17.985444\n",
       "odometer         7892  51525  15.316836\n",
       "cylinders        5260  51525  10.208637\n",
       "model_year       3619  51525   7.023775\n",
       "price               0  51525   0.000000\n",
       "model               0  51525   0.000000\n",
       "condition           0  51525   0.000000\n",
       "fuel                0  51525   0.000000\n",
       "transmission        0  51525   0.000000\n",
       "type                0  51525   0.000000\n",
       "date_posted         0  51525   0.000000\n",
       "days_listed         0  51525   0.000000"
      ]
     },
     "execution_count": 6,
     "metadata": {},
     "output_type": "execute_result"
    }
   ],
   "source": [
    "## missing values stats:\n",
    "\n",
    "data_raw.stb.missing()"
   ]
  },
  {
   "cell_type": "code",
   "execution_count": 7,
   "metadata": {},
   "outputs": [
    {
     "data": {
      "text/html": [
       "<div>\n",
       "<style scoped>\n",
       "    .dataframe tbody tr th:only-of-type {\n",
       "        vertical-align: middle;\n",
       "    }\n",
       "\n",
       "    .dataframe tbody tr th {\n",
       "        vertical-align: top;\n",
       "    }\n",
       "\n",
       "    .dataframe thead th {\n",
       "        text-align: right;\n",
       "    }\n",
       "</style>\n",
       "<table border=\"1\" class=\"dataframe\">\n",
       "  <thead>\n",
       "    <tr style=\"text-align: right;\">\n",
       "      <th></th>\n",
       "      <th>price</th>\n",
       "      <th>model_year</th>\n",
       "      <th>cylinders</th>\n",
       "      <th>odometer</th>\n",
       "      <th>is_4wd</th>\n",
       "      <th>days_listed</th>\n",
       "    </tr>\n",
       "  </thead>\n",
       "  <tbody>\n",
       "    <tr>\n",
       "      <th>price</th>\n",
       "      <td>1.000000</td>\n",
       "      <td>0.428656</td>\n",
       "      <td>0.296627</td>\n",
       "      <td>-0.420299</td>\n",
       "      <td>NaN</td>\n",
       "      <td>-0.000682</td>\n",
       "    </tr>\n",
       "    <tr>\n",
       "      <th>model_year</th>\n",
       "      <td>0.428656</td>\n",
       "      <td>1.000000</td>\n",
       "      <td>-0.148040</td>\n",
       "      <td>-0.473948</td>\n",
       "      <td>NaN</td>\n",
       "      <td>-0.005703</td>\n",
       "    </tr>\n",
       "    <tr>\n",
       "      <th>cylinders</th>\n",
       "      <td>0.296627</td>\n",
       "      <td>-0.148040</td>\n",
       "      <td>1.000000</td>\n",
       "      <td>0.090160</td>\n",
       "      <td>NaN</td>\n",
       "      <td>0.005517</td>\n",
       "    </tr>\n",
       "    <tr>\n",
       "      <th>odometer</th>\n",
       "      <td>-0.420299</td>\n",
       "      <td>-0.473948</td>\n",
       "      <td>0.090160</td>\n",
       "      <td>1.000000</td>\n",
       "      <td>NaN</td>\n",
       "      <td>0.003804</td>\n",
       "    </tr>\n",
       "    <tr>\n",
       "      <th>is_4wd</th>\n",
       "      <td>NaN</td>\n",
       "      <td>NaN</td>\n",
       "      <td>NaN</td>\n",
       "      <td>NaN</td>\n",
       "      <td>NaN</td>\n",
       "      <td>NaN</td>\n",
       "    </tr>\n",
       "    <tr>\n",
       "      <th>days_listed</th>\n",
       "      <td>-0.000682</td>\n",
       "      <td>-0.005703</td>\n",
       "      <td>0.005517</td>\n",
       "      <td>0.003804</td>\n",
       "      <td>NaN</td>\n",
       "      <td>1.000000</td>\n",
       "    </tr>\n",
       "  </tbody>\n",
       "</table>\n",
       "</div>"
      ],
      "text/plain": [
       "                price  model_year  cylinders  odometer  is_4wd  days_listed\n",
       "price        1.000000    0.428656   0.296627 -0.420299     NaN    -0.000682\n",
       "model_year   0.428656    1.000000  -0.148040 -0.473948     NaN    -0.005703\n",
       "cylinders    0.296627   -0.148040   1.000000  0.090160     NaN     0.005517\n",
       "odometer    -0.420299   -0.473948   0.090160  1.000000     NaN     0.003804\n",
       "is_4wd            NaN         NaN        NaN       NaN     NaN          NaN\n",
       "days_listed -0.000682   -0.005703   0.005517  0.003804     NaN     1.000000"
      ]
     },
     "execution_count": 7,
     "metadata": {},
     "output_type": "execute_result"
    }
   ],
   "source": [
    "# look at the correlation matrix to check which values are correlating:\n",
    "data_raw.corr()"
   ]
  },
  {
   "cell_type": "code",
   "execution_count": 8,
   "metadata": {},
   "outputs": [
    {
     "data": {
      "text/plain": [
       "array([1., 0.])"
      ]
     },
     "execution_count": 8,
     "metadata": {},
     "output_type": "execute_result"
    }
   ],
   "source": [
    "## replace empty values in 'is_4wd' column by zeroes and take a look at it\n",
    "data_raw['is_4wd'] = data_raw['is_4wd'].fillna(0)\n",
    "data_raw['is_4wd'].unique()"
   ]
  },
  {
   "cell_type": "markdown",
   "metadata": {},
   "source": [
    "#### Notes:\n",
    "\n",
    "* The strongest correllation the 'cylinders' column has is with 'is_4wd' column, which is boolean and has no filled values. I don't have a way to know why 'cylinders' have missing values, most likely it's due to human factor and personal preferences of advertisers: not everyone likes to share the whole information they have, some of the people don't know the exact numbers, etc. So looks like the best way to fill those values is by 'is_4wd' column.\n",
    "\n",
    "\n",
    "* I also don't have a way to know why 'odometer' values are missing. Most likely it is also due to human factor: someone didn't want to publish it openly because thought it may affect chances to sell the car, someone just didn't know or didn't care. But it is reasonable to assume that  'model_year' is affecting mileage values: the older vehicle is, the larger it's mileage numbers are. Luckily, 'odometer' column is correlated to 'model year' and I can to fill it by it, but I have to fill the missing 'model_year' values first."
   ]
  },
  {
   "cell_type": "code",
   "execution_count": 9,
   "metadata": {},
   "outputs": [
    {
     "name": "stdout",
     "output_type": "stream",
     "text": [
      "0\n"
     ]
    }
   ],
   "source": [
    "## filling the missing 'cylinders' column by 'is_4wd':\n",
    "\n",
    "data_raw['cylinders'] = data_raw['cylinders'].fillna(data_raw.groupby('is_4wd')['cylinders'].transform('median'))\n",
    "\n",
    "# check the result:\n",
    "print(data_raw.cylinders.isna().sum())"
   ]
  },
  {
   "cell_type": "code",
   "execution_count": 10,
   "metadata": {},
   "outputs": [
    {
     "data": {
      "text/html": [
       "<div>\n",
       "<style scoped>\n",
       "    .dataframe tbody tr th:only-of-type {\n",
       "        vertical-align: middle;\n",
       "    }\n",
       "\n",
       "    .dataframe tbody tr th {\n",
       "        vertical-align: top;\n",
       "    }\n",
       "\n",
       "    .dataframe thead tr th {\n",
       "        text-align: left;\n",
       "    }\n",
       "\n",
       "    .dataframe thead tr:last-of-type th {\n",
       "        text-align: right;\n",
       "    }\n",
       "</style>\n",
       "<table border=\"1\" class=\"dataframe\">\n",
       "  <thead>\n",
       "    <tr>\n",
       "      <th></th>\n",
       "      <th>median</th>\n",
       "      <th>count</th>\n",
       "    </tr>\n",
       "    <tr>\n",
       "      <th></th>\n",
       "      <th>model_year</th>\n",
       "      <th>model_year</th>\n",
       "    </tr>\n",
       "    <tr>\n",
       "      <th>model</th>\n",
       "      <th></th>\n",
       "      <th></th>\n",
       "    </tr>\n",
       "  </thead>\n",
       "  <tbody>\n",
       "    <tr>\n",
       "      <th>nissan frontier crew cab sv</th>\n",
       "      <td>2018.0</td>\n",
       "      <td>316</td>\n",
       "    </tr>\n",
       "    <tr>\n",
       "      <th>chevrolet camaro lt coupe 2d</th>\n",
       "      <td>2017.0</td>\n",
       "      <td>293</td>\n",
       "    </tr>\n",
       "    <tr>\n",
       "      <th>chevrolet silverado 1500 crew</th>\n",
       "      <td>2016.0</td>\n",
       "      <td>282</td>\n",
       "    </tr>\n",
       "    <tr>\n",
       "      <th>ford mustang gt coupe 2d</th>\n",
       "      <td>2016.0</td>\n",
       "      <td>283</td>\n",
       "    </tr>\n",
       "    <tr>\n",
       "      <th>ford f150 supercrew cab xlt</th>\n",
       "      <td>2015.0</td>\n",
       "      <td>307</td>\n",
       "    </tr>\n",
       "    <tr>\n",
       "      <th>chevrolet colorado</th>\n",
       "      <td>2015.0</td>\n",
       "      <td>264</td>\n",
       "    </tr>\n",
       "    <tr>\n",
       "      <th>nissan rogue</th>\n",
       "      <td>2015.0</td>\n",
       "      <td>431</td>\n",
       "    </tr>\n",
       "    <tr>\n",
       "      <th>chrysler 200</th>\n",
       "      <td>2014.0</td>\n",
       "      <td>224</td>\n",
       "    </tr>\n",
       "    <tr>\n",
       "      <th>chevrolet cruze</th>\n",
       "      <td>2014.0</td>\n",
       "      <td>428</td>\n",
       "    </tr>\n",
       "    <tr>\n",
       "      <th>kia soul</th>\n",
       "      <td>2014.0</td>\n",
       "      <td>322</td>\n",
       "    </tr>\n",
       "  </tbody>\n",
       "</table>\n",
       "</div>"
      ],
      "text/plain": [
       "                                  median      count\n",
       "                              model_year model_year\n",
       "model                                              \n",
       "nissan frontier crew cab sv       2018.0        316\n",
       "chevrolet camaro lt coupe 2d      2017.0        293\n",
       "chevrolet silverado 1500 crew     2016.0        282\n",
       "ford mustang gt coupe 2d          2016.0        283\n",
       "ford f150 supercrew cab xlt       2015.0        307\n",
       "chevrolet colorado                2015.0        264\n",
       "nissan rogue                      2015.0        431\n",
       "chrysler 200                      2014.0        224\n",
       "chevrolet cruze                   2014.0        428\n",
       "kia soul                          2014.0        322"
      ]
     },
     "execution_count": 10,
     "metadata": {},
     "output_type": "execute_result"
    }
   ],
   "source": [
    "# I know that certain models are produced in certain years range, so I check if 'model' and 'model_year' columns are connected.\n",
    "\n",
    "data_raw.pivot_table(\n",
    "    # count column - to make sure this model has enough values\n",
    "    index = 'model', values = 'model_year', aggfunc = ['median', 'count'] \n",
    ").sort_values(('median','model_year'), ascending = False).head(10)"
   ]
  },
  {
   "cell_type": "code",
   "execution_count": 11,
   "metadata": {},
   "outputs": [
    {
     "name": "stdout",
     "output_type": "stream",
     "text": [
      "0\n"
     ]
    }
   ],
   "source": [
    "# 'model' more or less connected to 'model_year'. So I fill 'model_year' values by 'model':\n",
    "data_raw['model_year'] = data_raw['model_year'].fillna(data_raw.groupby('model')['model_year'].transform('median'))\n",
    "\n",
    "# check the result:\n",
    "print(data_raw.cylinders.isna().sum())"
   ]
  },
  {
   "cell_type": "code",
   "execution_count": 12,
   "metadata": {},
   "outputs": [
    {
     "name": "stdout",
     "output_type": "stream",
     "text": [
      "1\n"
     ]
    }
   ],
   "source": [
    "# fill 'odometer' values by 'model_year' (as I described above in my notes):\n",
    "# 'model' more or less connected to 'model_year'. So I fill 'model_year' values by 'model':\n",
    "data_raw['odometer'] = data_raw['odometer'].fillna(data_raw.groupby('model_year')['odometer'].transform('median'))\n",
    "\n",
    "# check the result:\n",
    "print(data_raw.odometer.isna().sum())"
   ]
  },
  {
   "cell_type": "markdown",
   "metadata": {},
   "source": [
    "#### Notes: \n",
    "\n",
    "I still have one cell with missing odometer value. I am going to check what the model year is and if I can fill it in any other way:"
   ]
  },
  {
   "cell_type": "code",
   "execution_count": 13,
   "metadata": {},
   "outputs": [
    {
     "data": {
      "text/html": [
       "<div>\n",
       "<style scoped>\n",
       "    .dataframe tbody tr th:only-of-type {\n",
       "        vertical-align: middle;\n",
       "    }\n",
       "\n",
       "    .dataframe tbody tr th {\n",
       "        vertical-align: top;\n",
       "    }\n",
       "\n",
       "    .dataframe thead th {\n",
       "        text-align: right;\n",
       "    }\n",
       "</style>\n",
       "<table border=\"1\" class=\"dataframe\">\n",
       "  <thead>\n",
       "    <tr style=\"text-align: right;\">\n",
       "      <th></th>\n",
       "      <th>price</th>\n",
       "      <th>model_year</th>\n",
       "      <th>model</th>\n",
       "      <th>condition</th>\n",
       "      <th>cylinders</th>\n",
       "      <th>fuel</th>\n",
       "      <th>odometer</th>\n",
       "      <th>transmission</th>\n",
       "      <th>type</th>\n",
       "      <th>paint_color</th>\n",
       "      <th>is_4wd</th>\n",
       "      <th>date_posted</th>\n",
       "      <th>days_listed</th>\n",
       "    </tr>\n",
       "  </thead>\n",
       "  <tbody>\n",
       "    <tr>\n",
       "      <th>45694</th>\n",
       "      <td>18000</td>\n",
       "      <td>1929.0</td>\n",
       "      <td>ford f-150</td>\n",
       "      <td>good</td>\n",
       "      <td>8.0</td>\n",
       "      <td>gas</td>\n",
       "      <td>NaN</td>\n",
       "      <td>manual</td>\n",
       "      <td>other</td>\n",
       "      <td>silver</td>\n",
       "      <td>0.0</td>\n",
       "      <td>2018-11-18</td>\n",
       "      <td>59</td>\n",
       "    </tr>\n",
       "  </tbody>\n",
       "</table>\n",
       "</div>"
      ],
      "text/plain": [
       "       price  model_year       model condition  cylinders fuel  odometer  \\\n",
       "45694  18000      1929.0  ford f-150      good        8.0  gas       NaN   \n",
       "\n",
       "      transmission   type paint_color  is_4wd date_posted  days_listed  \n",
       "45694       manual  other      silver     0.0  2018-11-18           59  "
      ]
     },
     "execution_count": 13,
     "metadata": {},
     "output_type": "execute_result"
    }
   ],
   "source": [
    "data_raw[data_raw['odometer'].isna()]"
   ]
  },
  {
   "cell_type": "markdown",
   "metadata": {},
   "source": [
    "#### Notes:\n",
    "\n",
    "Obviously year 1929 is a rare one. In this case I will fill this cell with median value by antique cars. For the sake of this I am going decide that any car produced before 1980 is an antique one. How many of those do I have?"
   ]
  },
  {
   "cell_type": "code",
   "execution_count": 14,
   "metadata": {},
   "outputs": [
    {
     "data": {
      "text/plain": [
       "191"
      ]
     },
     "execution_count": 14,
     "metadata": {},
     "output_type": "execute_result"
    }
   ],
   "source": [
    "data_raw.query('model_year < 1980').model_year.count()"
   ]
  },
  {
   "cell_type": "code",
   "execution_count": 15,
   "metadata": {},
   "outputs": [
    {
     "name": "stdout",
     "output_type": "stream",
     "text": [
      "0\n"
     ]
    }
   ],
   "source": [
    "# looks like enough. \n",
    "# Fill last missing odometer value:\n",
    "data_raw['odometer'] = data_raw['odometer'].fillna(data_raw.query('model_year < 1980')['odometer'].median())\n",
    "\n",
    "# check the result:\n",
    "print(data_raw.odometer.isna().sum())"
   ]
  },
  {
   "cell_type": "code",
   "execution_count": 16,
   "metadata": {},
   "outputs": [
    {
     "data": {
      "text/plain": [
       "8115     1\n",
       "11634    1\n",
       "3063     1\n",
       "11402    1\n",
       "11633    1\n",
       "Name: price, dtype: int64"
      ]
     },
     "execution_count": 16,
     "metadata": {},
     "output_type": "execute_result"
    }
   ],
   "source": [
    "# check low 'price' values:\n",
    "\n",
    "data_raw['price'].sort_values().head()"
   ]
  },
  {
   "cell_type": "code",
   "execution_count": 17,
   "metadata": {},
   "outputs": [
    {
     "name": "stdout",
     "output_type": "stream",
     "text": [
      "Share of \"1\" price values: 0.015\n"
     ]
    },
    {
     "data": {
      "text/plain": [
       "44205     3\n",
       "50430     5\n",
       "31263     6\n",
       "39379     9\n",
       "50971    10\n",
       "Name: price, dtype: int64"
      ]
     },
     "execution_count": 17,
     "metadata": {},
     "output_type": "execute_result"
    }
   ],
   "source": [
    "# looks like I have more than a few of those. How many exactly?\n",
    "\n",
    "print('Share of \"1\" price values:', round(data_raw.query('price == 1')['price'].count() / len(data_raw), 3))\n",
    "\n",
    "# check if I have other low values:\n",
    "\n",
    "data_raw.query('price > 1')['price'].sort_values().head()"
   ]
  },
  {
   "cell_type": "markdown",
   "metadata": {},
   "source": [
    "**Notes**:\n",
    "\n",
    "Looks like I have another low values apart from 1, but in much lower quantities each. I believe those other low values could also be entered because people couldn't post an add without price and had to enter something, but also they can mean price in thousands. I don't have a way to know, and later I will have to drop those rows - I will determine where outliers start when I'll see the graphs."
   ]
  },
  {
   "cell_type": "markdown",
   "metadata": {},
   "source": [
    "**Notes** - 'paint_color': \n",
    "\n",
    "There are 18% of missing values in 'paint_color' - that's a lot! Also this is a categorical column so I don't really have a way to calculate some average value by category (or even by a few categories). I am going to fill those values with 'unknown': this way I won't have missing cells and I will know this specific value shouldn't be included in any analysis by color."
   ]
  },
  {
   "cell_type": "code",
   "execution_count": 18,
   "metadata": {},
   "outputs": [
    {
     "data": {
      "text/plain": [
       "0"
      ]
     },
     "execution_count": 18,
     "metadata": {},
     "output_type": "execute_result"
    }
   ],
   "source": [
    "#replace missing 'pain_color' values with 'unknown':\n",
    "data_raw['paint_color'] = data_raw['paint_color'].fillna('unknown')\n",
    "\n",
    "#check if everything worked as it should\n",
    "data_raw['paint_color'].isna().sum() "
   ]
  },
  {
   "cell_type": "code",
   "execution_count": 24,
   "metadata": {},
   "outputs": [
    {
     "name": "stdout",
     "output_type": "stream",
     "text": [
      "<class 'pandas.core.frame.DataFrame'>\n",
      "RangeIndex: 51525 entries, 0 to 51524\n",
      "Data columns (total 13 columns):\n",
      " #   Column        Non-Null Count  Dtype \n",
      "---  ------        --------------  ----- \n",
      " 0   price         51525 non-null  int32 \n",
      " 1   model_year    51525 non-null  int32 \n",
      " 2   model         51525 non-null  object\n",
      " 3   condition     51525 non-null  object\n",
      " 4   cylinders     51525 non-null  int32 \n",
      " 5   fuel          51525 non-null  object\n",
      " 6   odometer      51525 non-null  int32 \n",
      " 7   transmission  51525 non-null  object\n",
      " 8   type          51525 non-null  object\n",
      " 9   paint_color   51525 non-null  object\n",
      " 10  is_4wd        51525 non-null  bool  \n",
      " 11  date_posted   51525 non-null  object\n",
      " 12  days_listed   51525 non-null  int32 \n",
      "dtypes: bool(1), int32(5), object(7)\n",
      "memory usage: 3.8+ MB\n"
     ]
    }
   ],
   "source": [
    "# create a list of columns containing numbers\n",
    "number_columns = ['price', 'model_year', 'cylinders', 'odometer', 'days_listed']\n",
    "\n",
    "# and convert all of them to ints to optimize work process and avoid possible errors\n",
    "data_raw[number_columns] = data_raw[number_columns].astype('int32')\n",
    "\n",
    "# convert is_4wd column to 'bool' type:\n",
    "data_raw['is_4wd'] = data_raw['is_4wd'].astype('bool')\n",
    "\n",
    "\n",
    "# taking a look to check that I didn't miss anything\n",
    "data_raw.info()"
   ]
  },
  {
   "cell_type": "code",
   "execution_count": 20,
   "metadata": {},
   "outputs": [
    {
     "name": "stdout",
     "output_type": "stream",
     "text": [
      "['bmw x5' 'ford f-150' 'hyundai sonata' 'chrysler 200' 'chrysler 300'\n",
      " 'toyota camry' 'honda pilot' 'kia sorento' 'chevrolet silverado 1500'\n",
      " 'honda accord' 'ram 1500' 'gmc yukon' 'jeep cherokee'\n",
      " 'chevrolet traverse' 'hyundai elantra' 'chevrolet tahoe' 'toyota rav4'\n",
      " 'chevrolet silverado' 'jeep wrangler' 'chevrolet malibu' 'ford fusion se'\n",
      " 'chevrolet impala' 'chevrolet corvette' 'jeep liberty' 'toyota camry le'\n",
      " 'nissan altima' 'subaru outback' 'toyota highlander' 'dodge charger'\n",
      " 'toyota tacoma' 'chevrolet equinox' 'nissan rogue'\n",
      " 'mercedes-benz benze sprinter 2500' 'honda cr-v' 'jeep grand cherokee'\n",
      " 'toyota 4runner' 'ford focus' 'honda civic' 'kia soul'\n",
      " 'chevrolet colorado' 'ford f150 supercrew cab xlt'\n",
      " 'chevrolet camaro lt coupe 2d' 'chevrolet cruze' 'ford mustang'\n",
      " 'chevrolet silverado 3500hd' 'nissan frontier crew cab sv'\n",
      " 'subaru impreza' 'jeep grand cherokee laredo' 'nissan versa'\n",
      " 'ford f-250 sd' 'chevrolet silverado 1500 crew' 'ford f250 super duty'\n",
      " 'chevrolet camaro' 'ford mustang gt coupe 2d' 'subaru forester'\n",
      " 'ford explorer' 'ford f-350 sd' 'ford edge' 'nissan maxima' 'ford f-250'\n",
      " 'nissan sentra' 'ford f150' 'chevrolet suburban' 'ford expedition'\n",
      " 'dodge grand caravan' 'ford taurus' 'acura tl' 'ford f350 super duty'\n",
      " 'ford ranger' 'gmc sierra' 'hyundai santa fe' 'ford escape'\n",
      " 'gmc sierra 2500hd' 'honda civic lx' 'gmc sierra 1500' 'honda odyssey'\n",
      " 'cadillac escalade' 'volkswagen jetta' 'toyota corolla'\n",
      " 'chrysler town & country' 'volkswagen passat' 'toyota prius'\n",
      " 'buick enclave' 'ford fusion' 'toyota tundra' 'ram 3500' 'ram 2500'\n",
      " 'nissan frontier' 'chevrolet silverado 2500hd' 'jeep wrangler unlimited'\n",
      " 'ford f-250 super duty' 'gmc acadia' 'toyota sienna' 'ford focus se'\n",
      " 'ford f250' 'dodge dakota' 'ford f350' 'chevrolet trailblazer'\n",
      " 'ford econoline' 'nissan murano']\n",
      "['gas' 'diesel' 'other' 'hybrid' 'electric']\n",
      "['automatic' 'manual' 'other']\n",
      "['SUV' 'pickup' 'sedan' 'truck' 'coupe' 'van' 'convertible' 'hatchback'\n",
      " 'wagon' 'mini-van' 'other' 'offroad' 'bus']\n",
      "['unknown' 'white' 'red' 'black' 'blue' 'grey' 'silver' 'custom' 'orange'\n",
      " 'yellow' 'brown' 'green' 'purple']\n"
     ]
    }
   ],
   "source": [
    "# check unique text values to see if I have duplicates and to check if categorization is needed:\n",
    "text_columns = ['model', 'fuel', 'transmission', 'type', 'paint_color']\n",
    "\n",
    "for column in text_columns:\n",
    "    print(data_raw[column].unique())"
   ]
  },
  {
   "cell_type": "markdown",
   "metadata": {},
   "source": [
    "**Notes**:\n",
    "\n",
    "All the columns except 'model' look OK: no duplicates, well-defined categories. \n",
    "\n",
    "The 'model' column is more complicated. It seems it was filled by freestyle text, with no predefined choices, so it has a lot of values, some of them are duplicated. Sorting this column by brand could oversimplify the data, and excluding duplicated models seems to be needlessly complicated: it is a lot of work, and I don't have any project task that may need categorization of this column. If such a need will arise, I will process this column then."
   ]
  },
  {
   "cell_type": "code",
   "execution_count": 25,
   "metadata": {},
   "outputs": [
    {
     "data": {
      "text/html": [
       "<div>\n",
       "<style scoped>\n",
       "    .dataframe tbody tr th:only-of-type {\n",
       "        vertical-align: middle;\n",
       "    }\n",
       "\n",
       "    .dataframe tbody tr th {\n",
       "        vertical-align: top;\n",
       "    }\n",
       "\n",
       "    .dataframe thead th {\n",
       "        text-align: right;\n",
       "    }\n",
       "</style>\n",
       "<table border=\"1\" class=\"dataframe\">\n",
       "  <thead>\n",
       "    <tr style=\"text-align: right;\">\n",
       "      <th></th>\n",
       "      <th>price</th>\n",
       "      <th>model_year</th>\n",
       "      <th>model</th>\n",
       "      <th>condition</th>\n",
       "      <th>cylinders</th>\n",
       "      <th>odometer</th>\n",
       "      <th>is_4wd</th>\n",
       "      <th>transmission</th>\n",
       "      <th>type</th>\n",
       "      <th>paint_color</th>\n",
       "      <th>date_posted</th>\n",
       "      <th>days_listed</th>\n",
       "    </tr>\n",
       "  </thead>\n",
       "  <tbody>\n",
       "    <tr>\n",
       "      <th>0</th>\n",
       "      <td>9400</td>\n",
       "      <td>2011</td>\n",
       "      <td>bmw x5</td>\n",
       "      <td>good</td>\n",
       "      <td>6</td>\n",
       "      <td>145000</td>\n",
       "      <td>True</td>\n",
       "      <td>automatic</td>\n",
       "      <td>SUV</td>\n",
       "      <td>unknown</td>\n",
       "      <td>2018-06-23</td>\n",
       "      <td>19</td>\n",
       "    </tr>\n",
       "    <tr>\n",
       "      <th>1</th>\n",
       "      <td>25500</td>\n",
       "      <td>2011</td>\n",
       "      <td>ford f-150</td>\n",
       "      <td>good</td>\n",
       "      <td>6</td>\n",
       "      <td>88705</td>\n",
       "      <td>True</td>\n",
       "      <td>automatic</td>\n",
       "      <td>pickup</td>\n",
       "      <td>white</td>\n",
       "      <td>2018-10-19</td>\n",
       "      <td>50</td>\n",
       "    </tr>\n",
       "    <tr>\n",
       "      <th>2</th>\n",
       "      <td>5500</td>\n",
       "      <td>2013</td>\n",
       "      <td>hyundai sonata</td>\n",
       "      <td>like new</td>\n",
       "      <td>4</td>\n",
       "      <td>110000</td>\n",
       "      <td>False</td>\n",
       "      <td>automatic</td>\n",
       "      <td>sedan</td>\n",
       "      <td>red</td>\n",
       "      <td>2019-02-07</td>\n",
       "      <td>79</td>\n",
       "    </tr>\n",
       "    <tr>\n",
       "      <th>3</th>\n",
       "      <td>1500</td>\n",
       "      <td>2003</td>\n",
       "      <td>ford f-150</td>\n",
       "      <td>fair</td>\n",
       "      <td>8</td>\n",
       "      <td>161397</td>\n",
       "      <td>False</td>\n",
       "      <td>automatic</td>\n",
       "      <td>pickup</td>\n",
       "      <td>unknown</td>\n",
       "      <td>2019-03-22</td>\n",
       "      <td>9</td>\n",
       "    </tr>\n",
       "    <tr>\n",
       "      <th>4</th>\n",
       "      <td>14900</td>\n",
       "      <td>2017</td>\n",
       "      <td>chrysler 200</td>\n",
       "      <td>excellent</td>\n",
       "      <td>4</td>\n",
       "      <td>80903</td>\n",
       "      <td>False</td>\n",
       "      <td>automatic</td>\n",
       "      <td>sedan</td>\n",
       "      <td>black</td>\n",
       "      <td>2019-04-02</td>\n",
       "      <td>28</td>\n",
       "    </tr>\n",
       "  </tbody>\n",
       "</table>\n",
       "</div>"
      ],
      "text/plain": [
       "   price  model_year           model  condition  cylinders  odometer  is_4wd  \\\n",
       "0   9400        2011          bmw x5       good          6    145000    True   \n",
       "1  25500        2011      ford f-150       good          6     88705    True   \n",
       "2   5500        2013  hyundai sonata   like new          4    110000   False   \n",
       "3   1500        2003      ford f-150       fair          8    161397   False   \n",
       "4  14900        2017    chrysler 200  excellent          4     80903   False   \n",
       "\n",
       "  transmission    type paint_color date_posted  days_listed  \n",
       "0    automatic     SUV     unknown  2018-06-23           19  \n",
       "1    automatic  pickup       white  2018-10-19           50  \n",
       "2    automatic   sedan         red  2019-02-07           79  \n",
       "3    automatic  pickup     unknown  2019-03-22            9  \n",
       "4    automatic   sedan       black  2019-04-02           28  "
      ]
     },
     "execution_count": 25,
     "metadata": {},
     "output_type": "execute_result"
    }
   ],
   "source": [
    "# separate only the relevant categories into new dataframe:\n",
    "\n",
    "data = data_raw[[\n",
    "    'price', 'model_year', 'model', 'condition', 'cylinders', 'odometer', 'is_4wd', 'transmission', 'type', 'paint_color',\n",
    "    'date_posted', 'days_listed'\n",
    "]]\n",
    "\n",
    "data.head()"
   ]
  },
  {
   "cell_type": "code",
   "execution_count": 26,
   "metadata": {},
   "outputs": [
    {
     "name": "stdout",
     "output_type": "stream",
     "text": [
      "0\n"
     ]
    },
    {
     "name": "stderr",
     "output_type": "stream",
     "text": [
      "<ipython-input-26-4d681e4b0ab8>:2: SettingWithCopyWarning: \n",
      "A value is trying to be set on a copy of a slice from a DataFrame.\n",
      "Try using .loc[row_indexer,col_indexer] = value instead\n",
      "\n",
      "See the caveats in the documentation: https://pandas.pydata.org/pandas-docs/stable/user_guide/indexing.html#returning-a-view-versus-a-copy\n",
      "  data['date_posted'] = pd.to_datetime(data['date_posted'], format = '%Y-%m-%d')\n"
     ]
    }
   ],
   "source": [
    "# convert column to datetime format\n",
    "data['date_posted'] = pd.to_datetime(data['date_posted'], format = '%Y-%m-%d') \n",
    "\n",
    "# check for duplicates\n",
    "print(data.duplicated().sum()) "
   ]
  },
  {
   "cell_type": "code",
   "execution_count": 27,
   "metadata": {},
   "outputs": [
    {
     "name": "stdout",
     "output_type": "stream",
     "text": [
      "<class 'pandas.core.frame.DataFrame'>\n",
      "RangeIndex: 51525 entries, 0 to 51524\n",
      "Data columns (total 12 columns):\n",
      " #   Column        Non-Null Count  Dtype         \n",
      "---  ------        --------------  -----         \n",
      " 0   price         51525 non-null  int32         \n",
      " 1   model_year    51525 non-null  int32         \n",
      " 2   model         51525 non-null  object        \n",
      " 3   condition     51525 non-null  object        \n",
      " 4   cylinders     51525 non-null  int32         \n",
      " 5   odometer      51525 non-null  int32         \n",
      " 6   is_4wd        51525 non-null  bool          \n",
      " 7   transmission  51525 non-null  object        \n",
      " 8   type          51525 non-null  object        \n",
      " 9   paint_color   51525 non-null  object        \n",
      " 10  date_posted   51525 non-null  datetime64[ns]\n",
      " 11  days_listed   51525 non-null  int32         \n",
      "dtypes: bool(1), datetime64[ns](1), int32(5), object(5)\n",
      "memory usage: 3.4+ MB\n"
     ]
    }
   ],
   "source": [
    "data.info() #last look at the preprocessed dataframe"
   ]
  },
  {
   "cell_type": "markdown",
   "metadata": {},
   "source": [
    "#### <font color='Purple'>Notes:</font>\n",
    "\n",
    "After thorough reading of the review on this section, I almost completely rewrited it: \n",
    "* Instead of checking for amount and  share of missing values in overall data, I applied sidetable's 'missing' to the whole dataset.\n",
    "* I used correlation matrix to find best options to fill missing numerical values, so most of the cells with my previous fillament of those values were removed.\n",
    "* I moved replacement of the condition values to the next section.\n",
    "* And finally, I gave up on categorization of 'model' column and left it as it is.\n",
    "\n",
    "<br><br>\n",
    "[^^^ Back to the Table of Contents ^^^](#Table-of-Contents:)"
   ]
  },
  {
   "cell_type": "markdown",
   "metadata": {},
   "source": [
    "## Make calculations and add them to the table"
   ]
  },
  {
   "cell_type": "code",
   "execution_count": 28,
   "metadata": {},
   "outputs": [
    {
     "name": "stderr",
     "output_type": "stream",
     "text": [
      "C:\\ProgramData\\Anaconda3\\lib\\site-packages\\pandas\\core\\series.py:4509: SettingWithCopyWarning: \n",
      "A value is trying to be set on a copy of a slice from a DataFrame\n",
      "\n",
      "See the caveats in the documentation: https://pandas.pydata.org/pandas-docs/stable/user_guide/indexing.html#returning-a-view-versus-a-copy\n",
      "  return super().replace(\n"
     ]
    },
    {
     "data": {
      "text/plain": [
       "array([2, 4, 1, 3, 0, 5], dtype=int64)"
      ]
     },
     "execution_count": 28,
     "metadata": {},
     "output_type": "execute_result"
    }
   ],
   "source": [
    "# replace 'condition' values to numerical:\n",
    "data['condition'].replace({\n",
    "    'new':5, 'like new':4, 'excellent':3, 'good':2, 'fair':1, 'salvage':0\n",
    "}, inplace = True\n",
    ")\n",
    "\n",
    "# check the result\n",
    "data.condition.unique()"
   ]
  },
  {
   "cell_type": "code",
   "execution_count": 29,
   "metadata": {},
   "outputs": [
    {
     "data": {
      "text/html": [
       "<div>\n",
       "<style scoped>\n",
       "    .dataframe tbody tr th:only-of-type {\n",
       "        vertical-align: middle;\n",
       "    }\n",
       "\n",
       "    .dataframe tbody tr th {\n",
       "        vertical-align: top;\n",
       "    }\n",
       "\n",
       "    .dataframe thead th {\n",
       "        text-align: right;\n",
       "    }\n",
       "</style>\n",
       "<table border=\"1\" class=\"dataframe\">\n",
       "  <thead>\n",
       "    <tr style=\"text-align: right;\">\n",
       "      <th></th>\n",
       "      <th>price</th>\n",
       "      <th>model_year</th>\n",
       "      <th>model</th>\n",
       "      <th>condition</th>\n",
       "      <th>cylinders</th>\n",
       "      <th>odometer</th>\n",
       "      <th>is_4wd</th>\n",
       "      <th>transmission</th>\n",
       "      <th>type</th>\n",
       "      <th>paint_color</th>\n",
       "      <th>date_posted</th>\n",
       "      <th>days_listed</th>\n",
       "      <th>day_of_week</th>\n",
       "      <th>month</th>\n",
       "      <th>year</th>\n",
       "    </tr>\n",
       "  </thead>\n",
       "  <tbody>\n",
       "    <tr>\n",
       "      <th>0</th>\n",
       "      <td>9400</td>\n",
       "      <td>2011</td>\n",
       "      <td>bmw x5</td>\n",
       "      <td>2</td>\n",
       "      <td>6</td>\n",
       "      <td>145000</td>\n",
       "      <td>True</td>\n",
       "      <td>automatic</td>\n",
       "      <td>SUV</td>\n",
       "      <td>unknown</td>\n",
       "      <td>2018-06-23</td>\n",
       "      <td>19</td>\n",
       "      <td>Saturday</td>\n",
       "      <td>June</td>\n",
       "      <td>2018</td>\n",
       "    </tr>\n",
       "    <tr>\n",
       "      <th>1</th>\n",
       "      <td>25500</td>\n",
       "      <td>2011</td>\n",
       "      <td>ford f-150</td>\n",
       "      <td>2</td>\n",
       "      <td>6</td>\n",
       "      <td>88705</td>\n",
       "      <td>True</td>\n",
       "      <td>automatic</td>\n",
       "      <td>pickup</td>\n",
       "      <td>white</td>\n",
       "      <td>2018-10-19</td>\n",
       "      <td>50</td>\n",
       "      <td>Friday</td>\n",
       "      <td>October</td>\n",
       "      <td>2018</td>\n",
       "    </tr>\n",
       "    <tr>\n",
       "      <th>2</th>\n",
       "      <td>5500</td>\n",
       "      <td>2013</td>\n",
       "      <td>hyundai sonata</td>\n",
       "      <td>4</td>\n",
       "      <td>4</td>\n",
       "      <td>110000</td>\n",
       "      <td>False</td>\n",
       "      <td>automatic</td>\n",
       "      <td>sedan</td>\n",
       "      <td>red</td>\n",
       "      <td>2019-02-07</td>\n",
       "      <td>79</td>\n",
       "      <td>Thursday</td>\n",
       "      <td>February</td>\n",
       "      <td>2019</td>\n",
       "    </tr>\n",
       "    <tr>\n",
       "      <th>3</th>\n",
       "      <td>1500</td>\n",
       "      <td>2003</td>\n",
       "      <td>ford f-150</td>\n",
       "      <td>1</td>\n",
       "      <td>8</td>\n",
       "      <td>161397</td>\n",
       "      <td>False</td>\n",
       "      <td>automatic</td>\n",
       "      <td>pickup</td>\n",
       "      <td>unknown</td>\n",
       "      <td>2019-03-22</td>\n",
       "      <td>9</td>\n",
       "      <td>Friday</td>\n",
       "      <td>March</td>\n",
       "      <td>2019</td>\n",
       "    </tr>\n",
       "    <tr>\n",
       "      <th>4</th>\n",
       "      <td>14900</td>\n",
       "      <td>2017</td>\n",
       "      <td>chrysler 200</td>\n",
       "      <td>3</td>\n",
       "      <td>4</td>\n",
       "      <td>80903</td>\n",
       "      <td>False</td>\n",
       "      <td>automatic</td>\n",
       "      <td>sedan</td>\n",
       "      <td>black</td>\n",
       "      <td>2019-04-02</td>\n",
       "      <td>28</td>\n",
       "      <td>Tuesday</td>\n",
       "      <td>April</td>\n",
       "      <td>2019</td>\n",
       "    </tr>\n",
       "  </tbody>\n",
       "</table>\n",
       "</div>"
      ],
      "text/plain": [
       "   price  model_year           model  condition  cylinders  odometer  is_4wd  \\\n",
       "0   9400        2011          bmw x5          2          6    145000    True   \n",
       "1  25500        2011      ford f-150          2          6     88705    True   \n",
       "2   5500        2013  hyundai sonata          4          4    110000   False   \n",
       "3   1500        2003      ford f-150          1          8    161397   False   \n",
       "4  14900        2017    chrysler 200          3          4     80903   False   \n",
       "\n",
       "  transmission    type paint_color date_posted  days_listed day_of_week  \\\n",
       "0    automatic     SUV     unknown  2018-06-23           19    Saturday   \n",
       "1    automatic  pickup       white  2018-10-19           50      Friday   \n",
       "2    automatic   sedan         red  2019-02-07           79    Thursday   \n",
       "3    automatic  pickup     unknown  2019-03-22            9      Friday   \n",
       "4    automatic   sedan       black  2019-04-02           28     Tuesday   \n",
       "\n",
       "      month  year  \n",
       "0      June  2018  \n",
       "1   October  2018  \n",
       "2  February  2019  \n",
       "3     March  2019  \n",
       "4     April  2019  "
      ]
     },
     "execution_count": 29,
     "metadata": {},
     "output_type": "execute_result"
    }
   ],
   "source": [
    "# add columns for day of week, month and year when ad was posted\n",
    "\n",
    "data['day_of_week'] = data['date_posted'].dt.day_name()\n",
    "data['month'] = pd.DatetimeIndex(data['date_posted']).month_name()\n",
    "data['year'] = pd.DatetimeIndex(data['date_posted']).year\n",
    "\n",
    "# checking the result:\n",
    "data.head()"
   ]
  },
  {
   "cell_type": "code",
   "execution_count": 30,
   "metadata": {},
   "outputs": [],
   "source": [
    "# add column with vehichle's age in years\n",
    "data['vehicle_age'] = data['year'] - data['model_year']"
   ]
  },
  {
   "cell_type": "code",
   "execution_count": 31,
   "metadata": {},
   "outputs": [
    {
     "data": {
      "text/plain": [
       "count    51525.000000\n",
       "mean         8.513906\n",
       "std          6.112976\n",
       "min          0.000000\n",
       "25%          4.000000\n",
       "50%          8.000000\n",
       "75%         12.000000\n",
       "max        110.000000\n",
       "Name: vehicle_age, dtype: float64"
      ]
     },
     "execution_count": 31,
     "metadata": {},
     "output_type": "execute_result"
    }
   ],
   "source": [
    "# check how vehicle age looks before making new 'mileage_per_year_column'\n",
    "data['vehicle_age'].describe()"
   ]
  },
  {
   "cell_type": "markdown",
   "metadata": {},
   "source": [
    "**Notes**:\n",
    "\n",
    "I have some 0 values and that's no good, because to calculate average yearly mileage I have to divide odometer value by vehicle age. I believe those values came when year of production and year when the ad was placed are the same. But they complicate my calculations and may distort graphical representation. \n",
    "\n",
    "First I check if we are really talking about new vehicles: I will check distribution of condition values in rows with 0 age."
   ]
  },
  {
   "cell_type": "code",
   "execution_count": 32,
   "metadata": {},
   "outputs": [
    {
     "data": {
      "text/plain": [
       "3    995\n",
       "2    541\n",
       "4    536\n",
       "5     74\n",
       "0      4\n",
       "1      2\n",
       "Name: condition, dtype: int64"
      ]
     },
     "execution_count": 32,
     "metadata": {},
     "output_type": "execute_result"
    }
   ],
   "source": [
    "data.query('vehicle_age == 0')['condition'].value_counts()"
   ]
  },
  {
   "cell_type": "code",
   "execution_count": 33,
   "metadata": {},
   "outputs": [
    {
     "data": {
      "text/plain": [
       "0.04"
      ]
     },
     "execution_count": 33,
     "metadata": {},
     "output_type": "execute_result"
    }
   ],
   "source": [
    "# check what is the share of those rows:\n",
    "round(len(data.query('vehicle_age == 0')) / len(data_raw),2)"
   ]
  },
  {
   "cell_type": "code",
   "execution_count": 34,
   "metadata": {},
   "outputs": [
    {
     "data": {
      "text/plain": [
       "0    0.034783\n",
       "1    0.001245\n",
       "2    0.026855\n",
       "3    0.040165\n",
       "4    0.113032\n",
       "5    0.517483\n",
       "Name: condition, dtype: float64"
      ]
     },
     "execution_count": 34,
     "metadata": {},
     "output_type": "execute_result"
    }
   ],
   "source": [
    "# compare distribution of condition values in overall dataset and in rows with 0 age value:\n",
    "\n",
    "data.query('vehicle_age == 0')['condition'].value_counts() / data['condition'].value_counts()"
   ]
  },
  {
   "cell_type": "markdown",
   "metadata": {},
   "source": [
    "**Notes**:\n",
    "\n",
    "There is clearly something odd with those 0 vehicle age values. They have too high a percentage of low condition values - more than half! My guess is that some of the advertisers didn't want buyers to know the actual vehicle's age, and entered current year instead to hide it. Anyway, rows with this value are clearly corrupted and I have to drop it so it won't affect my analysis."
   ]
  },
  {
   "cell_type": "code",
   "execution_count": 35,
   "metadata": {},
   "outputs": [
    {
     "data": {
      "text/plain": [
       "count    49373.000000\n",
       "mean         8.884998\n",
       "std          5.974952\n",
       "min          1.000000\n",
       "25%          5.000000\n",
       "50%          8.000000\n",
       "75%         12.000000\n",
       "max        110.000000\n",
       "Name: vehicle_age, dtype: float64"
      ]
     },
     "execution_count": 35,
     "metadata": {},
     "output_type": "execute_result"
    }
   ],
   "source": [
    "data = data.query('vehicle_age > 0')\n",
    "\n",
    "# look at the age column now:\n",
    "data['vehicle_age'].describe()"
   ]
  },
  {
   "cell_type": "code",
   "execution_count": 36,
   "metadata": {
    "scrolled": true
   },
   "outputs": [
    {
     "data": {
      "text/html": [
       "<div>\n",
       "<style scoped>\n",
       "    .dataframe tbody tr th:only-of-type {\n",
       "        vertical-align: middle;\n",
       "    }\n",
       "\n",
       "    .dataframe tbody tr th {\n",
       "        vertical-align: top;\n",
       "    }\n",
       "\n",
       "    .dataframe thead th {\n",
       "        text-align: right;\n",
       "    }\n",
       "</style>\n",
       "<table border=\"1\" class=\"dataframe\">\n",
       "  <thead>\n",
       "    <tr style=\"text-align: right;\">\n",
       "      <th></th>\n",
       "      <th>price</th>\n",
       "      <th>model_year</th>\n",
       "      <th>model</th>\n",
       "      <th>condition</th>\n",
       "      <th>cylinders</th>\n",
       "      <th>odometer</th>\n",
       "      <th>is_4wd</th>\n",
       "      <th>transmission</th>\n",
       "      <th>type</th>\n",
       "      <th>paint_color</th>\n",
       "      <th>date_posted</th>\n",
       "      <th>days_listed</th>\n",
       "      <th>day_of_week</th>\n",
       "      <th>month</th>\n",
       "      <th>year</th>\n",
       "      <th>vehicle_age</th>\n",
       "      <th>mileage_per_year</th>\n",
       "    </tr>\n",
       "  </thead>\n",
       "  <tbody>\n",
       "    <tr>\n",
       "      <th>0</th>\n",
       "      <td>9400</td>\n",
       "      <td>2011</td>\n",
       "      <td>bmw x5</td>\n",
       "      <td>2</td>\n",
       "      <td>6</td>\n",
       "      <td>145000</td>\n",
       "      <td>True</td>\n",
       "      <td>automatic</td>\n",
       "      <td>SUV</td>\n",
       "      <td>unknown</td>\n",
       "      <td>2018-06-23</td>\n",
       "      <td>19</td>\n",
       "      <td>Saturday</td>\n",
       "      <td>June</td>\n",
       "      <td>2018</td>\n",
       "      <td>7</td>\n",
       "      <td>20714</td>\n",
       "    </tr>\n",
       "    <tr>\n",
       "      <th>1</th>\n",
       "      <td>25500</td>\n",
       "      <td>2011</td>\n",
       "      <td>ford f-150</td>\n",
       "      <td>2</td>\n",
       "      <td>6</td>\n",
       "      <td>88705</td>\n",
       "      <td>True</td>\n",
       "      <td>automatic</td>\n",
       "      <td>pickup</td>\n",
       "      <td>white</td>\n",
       "      <td>2018-10-19</td>\n",
       "      <td>50</td>\n",
       "      <td>Friday</td>\n",
       "      <td>October</td>\n",
       "      <td>2018</td>\n",
       "      <td>7</td>\n",
       "      <td>12672</td>\n",
       "    </tr>\n",
       "    <tr>\n",
       "      <th>2</th>\n",
       "      <td>5500</td>\n",
       "      <td>2013</td>\n",
       "      <td>hyundai sonata</td>\n",
       "      <td>4</td>\n",
       "      <td>4</td>\n",
       "      <td>110000</td>\n",
       "      <td>False</td>\n",
       "      <td>automatic</td>\n",
       "      <td>sedan</td>\n",
       "      <td>red</td>\n",
       "      <td>2019-02-07</td>\n",
       "      <td>79</td>\n",
       "      <td>Thursday</td>\n",
       "      <td>February</td>\n",
       "      <td>2019</td>\n",
       "      <td>6</td>\n",
       "      <td>18333</td>\n",
       "    </tr>\n",
       "    <tr>\n",
       "      <th>3</th>\n",
       "      <td>1500</td>\n",
       "      <td>2003</td>\n",
       "      <td>ford f-150</td>\n",
       "      <td>1</td>\n",
       "      <td>8</td>\n",
       "      <td>161397</td>\n",
       "      <td>False</td>\n",
       "      <td>automatic</td>\n",
       "      <td>pickup</td>\n",
       "      <td>unknown</td>\n",
       "      <td>2019-03-22</td>\n",
       "      <td>9</td>\n",
       "      <td>Friday</td>\n",
       "      <td>March</td>\n",
       "      <td>2019</td>\n",
       "      <td>16</td>\n",
       "      <td>10087</td>\n",
       "    </tr>\n",
       "    <tr>\n",
       "      <th>4</th>\n",
       "      <td>14900</td>\n",
       "      <td>2017</td>\n",
       "      <td>chrysler 200</td>\n",
       "      <td>3</td>\n",
       "      <td>4</td>\n",
       "      <td>80903</td>\n",
       "      <td>False</td>\n",
       "      <td>automatic</td>\n",
       "      <td>sedan</td>\n",
       "      <td>black</td>\n",
       "      <td>2019-04-02</td>\n",
       "      <td>28</td>\n",
       "      <td>Tuesday</td>\n",
       "      <td>April</td>\n",
       "      <td>2019</td>\n",
       "      <td>2</td>\n",
       "      <td>40451</td>\n",
       "    </tr>\n",
       "  </tbody>\n",
       "</table>\n",
       "</div>"
      ],
      "text/plain": [
       "   price  model_year           model  condition  cylinders  odometer  is_4wd  \\\n",
       "0   9400        2011          bmw x5          2          6    145000    True   \n",
       "1  25500        2011      ford f-150          2          6     88705    True   \n",
       "2   5500        2013  hyundai sonata          4          4    110000   False   \n",
       "3   1500        2003      ford f-150          1          8    161397   False   \n",
       "4  14900        2017    chrysler 200          3          4     80903   False   \n",
       "\n",
       "  transmission    type paint_color date_posted  days_listed day_of_week  \\\n",
       "0    automatic     SUV     unknown  2018-06-23           19    Saturday   \n",
       "1    automatic  pickup       white  2018-10-19           50      Friday   \n",
       "2    automatic   sedan         red  2019-02-07           79    Thursday   \n",
       "3    automatic  pickup     unknown  2019-03-22            9      Friday   \n",
       "4    automatic   sedan       black  2019-04-02           28     Tuesday   \n",
       "\n",
       "      month  year  vehicle_age  mileage_per_year  \n",
       "0      June  2018            7             20714  \n",
       "1   October  2018            7             12672  \n",
       "2  February  2019            6             18333  \n",
       "3     March  2019           16             10087  \n",
       "4     April  2019            2             40451  "
      ]
     },
     "execution_count": 36,
     "metadata": {},
     "output_type": "execute_result"
    }
   ],
   "source": [
    "# add vehicle's average mileage per year\n",
    "data['mileage_per_year'] = (data['odometer'] / data['vehicle_age']).astype('int32')\n",
    "\n",
    "#check the result:\n",
    "data.head()"
   ]
  },
  {
   "cell_type": "markdown",
   "metadata": {},
   "source": [
    "<br><br>\n",
    "[^^^ Back to the Table of Contents ^^^](#Table-of-Contents:)"
   ]
  },
  {
   "cell_type": "markdown",
   "metadata": {},
   "source": [
    "## Carry out exploratory data analysis"
   ]
  },
  {
   "cell_type": "code",
   "execution_count": 37,
   "metadata": {},
   "outputs": [
    {
     "data": {
      "image/png": "[encoded data removed]",
      "text/plain": [
       "<Figure size 432x288 with 1 Axes>"
      ]
     },
     "metadata": {
      "needs_background": "light"
     },
     "output_type": "display_data"
    },
    {
     "data": {
      "image/png": "[encoded data removed]",
      "text/plain": [
       "<Figure size 432x288 with 1 Axes>"
      ]
     },
     "metadata": {
      "needs_background": "light"
     },
     "output_type": "display_data"
    },
    {
     "data": {
      "image/png": "[encoded data removed]",
      "text/plain": [
       "<Figure size 432x288 with 1 Axes>"
      ]
     },
     "metadata": {
      "needs_background": "light"
     },
     "output_type": "display_data"
    },
    {
     "data": {
      "image/png": "[encoded data removed]",
      "text/plain": [
       "<Figure size 432x288 with 1 Axes>"
      ]
     },
     "metadata": {
      "needs_background": "light"
     },
     "output_type": "display_data"
    },
    {
     "data": {
      "image/png": "[encoded data removed]",
      "text/plain": [
       "<Figure size 432x288 with 1 Axes>"
      ]
     },
     "metadata": {
      "needs_background": "light"
     },
     "output_type": "display_data"
    },
    {
     "data": {
      "image/png": "[encoded data removed]",
      "text/plain": [
       "<Figure size 432x288 with 1 Axes>"
      ]
     },
     "metadata": {
      "needs_background": "light"
     },
     "output_type": "display_data"
    }
   ],
   "source": [
    "# make a list of quantitative columns I need to explore via plotting histograms:\n",
    "\n",
    "hist_columns = ['price', 'vehicle_age', 'odometer', 'mileage_per_year', 'cylinders', 'condition']\n",
    "\n",
    "# plot histograms via loop to take a first look:\n",
    "for column in hist_columns:\n",
    "    data[column].hist(bins = 50)\n",
    "    plt.title('Histogram of \"{}\" values'.format(column.replace('_',' ').capitalize()), fontsize = 16)\n",
    "    plt.xlabel(column.replace('_',' ').capitalize(), fontsize = 12)\n",
    "    plt.ylabel('Total values', fontsize = 12)\n",
    "    plt.show()"
   ]
  },
  {
   "cell_type": "markdown",
   "metadata": {},
   "source": [
    "**Notes**:\n",
    "\n",
    "* **Values distribution**: most *prices* are from 0 to 30-35,000; most *ages* are from 0 to 20 years; most of *odometer* values are between 40 and 160 thousand kilometers, with pretty and predictable gaussian distribution; most of *mileage per year* values are sitting between 5 and 30 thousand. <br>In *'cylinders'* and *'condition'* values seem to be distributed between the few categories: most of vehicles have 4, 6 or 8 cylinders, and are in good or excellent condition.\n",
    "\n",
    "\n",
    "* **Price, vehicle age, odometer and yearly mileage, conclusions**: looks like all those columns have long tails of high values because of which I can't see actual value distribution. Also I want to check 'price' lowest values to see if everything sits right: it's histogram has very high peak at prices 0-10,000. \n",
    "\n",
    "\n",
    "* **Cylinders and condition, conclusions**: I will count unique values and check, maybe it will be better to unite some categories. Especially cylinders, because of those really low-counted '1' and '3' cylinder values."
   ]
  },
  {
   "cell_type": "markdown",
   "metadata": {},
   "source": [
    "### Price"
   ]
  },
  {
   "cell_type": "code",
   "execution_count": 38,
   "metadata": {},
   "outputs": [
    {
     "data": {
      "image/png": "[encoded data removed]",
      "text/plain": [
       "<Figure size 432x288 with 1 Axes>"
      ]
     },
     "metadata": {
      "needs_background": "light"
     },
     "output_type": "display_data"
    }
   ],
   "source": [
    "# look at the boxplot:\n",
    "data['price'].plot(kind = 'box')\n",
    "plt.ylim(-5000,40000) # 40,000 looks reasonable upper limit based on histogram\n",
    "plt.title('Price boxplot', fontsize = 18)\n",
    "plt.xlabel('Distribution of values', fontsize = 14)\n",
    "plt.ylabel('Price values', fontsize = 14)\n",
    "plt.show()"
   ]
  },
  {
   "cell_type": "code",
   "execution_count": 39,
   "metadata": {},
   "outputs": [
    {
     "data": {
      "image/png": "[encoded data removed]",
      "text/plain": [
       "<Figure size 432x288 with 1 Axes>"
      ]
     },
     "metadata": {
      "needs_background": "light"
     },
     "output_type": "display_data"
    }
   ],
   "source": [
    "# look at prices below 5k (the q1):\n",
    "\n",
    "data.query('price < 5000').price.hist(bins = 100)\n",
    "plt.xlabel('Prices', fontsize = 14)\n",
    "plt.title('Histogram of prices under 5000', fontsize = 18)\n",
    "plt.xlabel('Price values', fontsize = 14)\n",
    "plt.ylabel('Total of values', fontsize = 14)\n",
    "plt.show()"
   ]
  },
  {
   "cell_type": "markdown",
   "metadata": {},
   "source": [
    "### Vehicle age, odometer, mileage per year"
   ]
  },
  {
   "cell_type": "code",
   "execution_count": 40,
   "metadata": {},
   "outputs": [
    {
     "data": {
      "image/png": "[encoded data removed]",
      "text/plain": [
       "<Figure size 432x288 with 1 Axes>"
      ]
     },
     "metadata": {
      "needs_background": "light"
     },
     "output_type": "display_data"
    }
   ],
   "source": [
    "# vehicle age:\n",
    "data['vehicle_age'].plot(kind = 'box')\n",
    "plt.ylim(-2,40) # 40 looks reasonable upper limit based on histogram\n",
    "plt.title('Vehicle age', fontsize = 18)\n",
    "plt.xlabel('Distribution of values', fontsize = 14)\n",
    "plt.ylabel('Age values', fontsize = 14)\n",
    "plt.show()"
   ]
  },
  {
   "cell_type": "code",
   "execution_count": 41,
   "metadata": {},
   "outputs": [
    {
     "data": {
      "image/png": "[encoded data removed]",
      "text/plain": [
       "<Figure size 432x288 with 1 Axes>"
      ]
     },
     "metadata": {
      "needs_background": "light"
     },
     "output_type": "display_data"
    }
   ],
   "source": [
    "# odometer:\n",
    "data['odometer'].plot(kind = 'box')\n",
    "plt.ylim(-5000,400000) # 400k looks reasonable upper limit based on histogram\n",
    "plt.title('Odometer', fontsize = 18)\n",
    "plt.xlabel('Distribution of values', fontsize = 14)\n",
    "plt.ylabel('Odometer values', fontsize = 14)\n",
    "plt.show()"
   ]
  },
  {
   "cell_type": "code",
   "execution_count": 42,
   "metadata": {},
   "outputs": [
    {
     "data": {
      "image/png": "[encoded data removed]",
      "text/plain": [
       "<Figure size 432x288 with 1 Axes>"
      ]
     },
     "metadata": {
      "needs_background": "light"
     },
     "output_type": "display_data"
    }
   ],
   "source": [
    "# mileage per year:\n",
    "data['mileage_per_year'].plot(kind = 'box')\n",
    "plt.ylim(-2000,100000) # 100k looks reasonable upper limit based on histogram\n",
    "plt.title('Mileage per year', fontsize = 18)\n",
    "plt.xlabel('Distribution of values', fontsize = 14)\n",
    "plt.ylabel('Annual mileage values', fontsize = 14)\n",
    "plt.show()"
   ]
  },
  {
   "cell_type": "markdown",
   "metadata": {},
   "source": [
    "**Notes**:\n",
    "\n",
    "* *Price*: the upper whisker of boxplot ends somewhere near 33,000, so I will round the upper limit to 35,000. Based on zoomed in boxplot, I will set the lower limit of price at 500. \n",
    "\n",
    "* *Vehicle age*: based on boxplot, I am going to set it from 0 to 25 (a little rounded up).\n",
    "\n",
    "* *Odometer*: based on boxplot, I am going to set limits for it from 0 to 250,000.\n",
    "\n",
    "* *Mileage per year*: by boxplot, it should be from 0 to 40,000."
   ]
  },
  {
   "cell_type": "markdown",
   "metadata": {},
   "source": [
    "### Cylinders and condition"
   ]
  },
  {
   "cell_type": "code",
   "execution_count": 43,
   "metadata": {},
   "outputs": [
    {
     "data": {
      "text/plain": [
       "8     17714\n",
       "6     17536\n",
       "4     13353\n",
       "10      468\n",
       "5       271\n",
       "3        29\n",
       "12        2\n",
       "Name: cylinders, dtype: int64"
      ]
     },
     "execution_count": 43,
     "metadata": {},
     "output_type": "execute_result"
    }
   ],
   "source": [
    "# look at unique values in cylinders\n",
    "\n",
    "data.cylinders.value_counts()"
   ]
  },
  {
   "cell_type": "code",
   "execution_count": 44,
   "metadata": {},
   "outputs": [
    {
     "data": {
      "text/plain": [
       "array([ 6,  4,  8,  5, 10], dtype=int64)"
      ]
     },
     "execution_count": 44,
     "metadata": {},
     "output_type": "execute_result"
    }
   ],
   "source": [
    "# unite categories:\n",
    "data.cylinders.replace({\n",
    "    3:4, # it will be one category for 4 or less\n",
    "    12:10 # one category for 10 and more\n",
    "}, inplace = True)\n",
    "\n",
    "# take a look:\n",
    "data.cylinders.unique()"
   ]
  },
  {
   "cell_type": "code",
   "execution_count": 45,
   "metadata": {},
   "outputs": [
    {
     "data": {
      "text/plain": [
       "3    23778\n",
       "2    19604\n",
       "4     4206\n",
       "1     1605\n",
       "0      111\n",
       "5       69\n",
       "Name: condition, dtype: int64"
      ]
     },
     "execution_count": 45,
     "metadata": {},
     "output_type": "execute_result"
    }
   ],
   "source": [
    "# look at values in 'condition':\n",
    "data.condition.value_counts()"
   ]
  },
  {
   "cell_type": "markdown",
   "metadata": {},
   "source": [
    "**Notes**:\n",
    "\n",
    "* In 'cylinders' I've seen two categories with small amount of values, so I united them with the categories closest to them numerically. "
   ]
  },
  {
   "cell_type": "code",
   "execution_count": 46,
   "metadata": {},
   "outputs": [],
   "source": [
    "# filter data by criteria I set upper:\n",
    "data_filtered = data.query(\n",
    "    '500 <= price <= 35000 & vehicle_age <= 25 & odometer <= 250000 & mileage_per_year <= 40000'\n",
    ")"
   ]
  },
  {
   "cell_type": "markdown",
   "metadata": {},
   "source": [
    "### Histograms for the filtered data"
   ]
  },
  {
   "cell_type": "code",
   "execution_count": 47,
   "metadata": {},
   "outputs": [
    {
     "data": {
      "image/png": "[encoded data removed]",
      "text/plain": [
       "<Figure size 432x288 with 1 Axes>"
      ]
     },
     "metadata": {
      "needs_background": "light"
     },
     "output_type": "display_data"
    },
    {
     "data": {
      "image/png": "[encoded data removed]",
      "text/plain": [
       "<Figure size 432x288 with 1 Axes>"
      ]
     },
     "metadata": {
      "needs_background": "light"
     },
     "output_type": "display_data"
    },
    {
     "data": {
      "image/png": "[encoded data removed]",
      "text/plain": [
       "<Figure size 432x288 with 1 Axes>"
      ]
     },
     "metadata": {
      "needs_background": "light"
     },
     "output_type": "display_data"
    },
    {
     "data": {
      "image/png": "[encoded data removed]",
      "text/plain": [
       "<Figure size 432x288 with 1 Axes>"
      ]
     },
     "metadata": {
      "needs_background": "light"
     },
     "output_type": "display_data"
    },
    {
     "data": {
      "image/png": "[encoded data removed]",
      "text/plain": [
       "<Figure size 432x288 with 1 Axes>"
      ]
     },
     "metadata": {
      "needs_background": "light"
     },
     "output_type": "display_data"
    },
    {
     "data": {
      "image/png": "[encoded data removed]",
      "text/plain": [
       "<Figure size 432x288 with 1 Axes>"
      ]
     },
     "metadata": {
      "needs_background": "light"
     },
     "output_type": "display_data"
    }
   ],
   "source": [
    "# I am not doing it via loop because I want set different amount of bins for each\n",
    "\n",
    "# Price\n",
    "data_filtered[hist_columns[0]].hist(bins = 35)\n",
    "plt.title('Price histogram', fontsize = 18)\n",
    "plt.ylabel('Amount of values', fontsize = 14)\n",
    "plt.xlabel(hist_columns[0].replace('_',' ').capitalize(), fontsize = 14)\n",
    "plt.show()\n",
    "\n",
    "# Vehicle age\n",
    "data_filtered[hist_columns[1]].hist(bins = 24)\n",
    "plt.title('Vehicle age histogram', fontsize = 18)\n",
    "plt.ylabel('Amount of values', fontsize = 14)\n",
    "plt.xlabel(hist_columns[1].replace('_',' ').capitalize(), fontsize = 14)\n",
    "plt.show()\n",
    "\n",
    "# Odometer\n",
    "data_filtered[hist_columns[2]].hist(bins = 25)\n",
    "plt.title('Odometer histogram', fontsize = 18)\n",
    "plt.ylabel('Amount of values', fontsize = 14)\n",
    "plt.xlabel(hist_columns[2].replace('_',' ').capitalize(), fontsize = 14)\n",
    "plt.show()\n",
    "\n",
    "# Mileage per year\n",
    "data_filtered[hist_columns[3]].hist(bins = 40)\n",
    "plt.title('Annual mileage histogram', fontsize = 18)\n",
    "plt.ylabel('Amount of values', fontsize = 14)\n",
    "plt.xlabel(hist_columns[3].replace('_',' ').capitalize(), fontsize = 14)\n",
    "plt.show()\n",
    "\n",
    "# Cylinders\n",
    "data_filtered[hist_columns[4]].hist(bins = 5)\n",
    "plt.title('Cylinders histogram', fontsize = 18)\n",
    "plt.ylabel('Amount of values', fontsize = 14)\n",
    "plt.xlabel(hist_columns[4].replace('_',' ').capitalize(), fontsize = 14)\n",
    "plt.show()\n",
    "\n",
    "# Condition\n",
    "data_filtered[hist_columns[5]].hist(bins = 5)\n",
    "plt.title('Condition histogram', fontsize = 18)\n",
    "plt.ylabel('Amount of values', fontsize = 14)\n",
    "plt.xlabel(hist_columns[5].replace('_',' ').capitalize(), fontsize = 14)\n",
    "plt.show()"
   ]
  },
  {
   "cell_type": "code",
   "execution_count": 48,
   "metadata": {},
   "outputs": [
    {
     "name": "stdout",
     "output_type": "stream",
     "text": [
      "15    99840\n",
      "42    99840\n",
      "46    90302\n",
      "66    99840\n",
      "69    97510\n",
      "Name: odometer, dtype: int32\n"
     ]
    }
   ],
   "source": [
    "# check odometer peak values\n",
    "print(data_filtered.query('90000 < odometer < 100000').odometer.head())"
   ]
  },
  {
   "cell_type": "code",
   "execution_count": 49,
   "metadata": {},
   "outputs": [
    {
     "name": "stdout",
     "output_type": "stream",
     "text": [
      "Total amount of 99840 values:  643\n"
     ]
    }
   ],
   "source": [
    "# check for amount of recurring values:\n",
    "print('Total amount of 99840 values: ', len(data_filtered.query('odometer == 99840')))\n"
   ]
  },
  {
   "cell_type": "code",
   "execution_count": 50,
   "metadata": {},
   "outputs": [
    {
     "data": {
      "text/plain": [
       "count    44159.000000\n",
       "mean     15708.259449\n",
       "std       7341.052387\n",
       "min          0.000000\n",
       "25%      10759.000000\n",
       "50%      14618.000000\n",
       "75%      19720.500000\n",
       "max      40000.000000\n",
       "Name: mileage_per_year, dtype: float64"
      ]
     },
     "execution_count": 50,
     "metadata": {},
     "output_type": "execute_result"
    }
   ],
   "source": [
    "# look closer at mileage per year:\n",
    "data_filtered.mileage_per_year.describe()"
   ]
  },
  {
   "cell_type": "code",
   "execution_count": 51,
   "metadata": {},
   "outputs": [
    {
     "data": {
      "image/png": "[encoded data removed]",
      "text/plain": [
       "<Figure size 432x288 with 1 Axes>"
      ]
     },
     "metadata": {
      "needs_background": "light"
     },
     "output_type": "display_data"
    }
   ],
   "source": [
    "# check histogram of lower values at this column:\n",
    "data_filtered.query('mileage_per_year <= 200').mileage_per_year.plot(kind = 'hist', bins = 50, color = 'maroon')\n",
    "plt.title('Annual mileage histogram (up to value 200)', fontsize = 16)\n",
    "plt.ylabel('Amount of values', fontsize = 14)\n",
    "plt.xlabel(hist_columns[3].replace('_',' ').capitalize(), fontsize = 14)\n",
    "plt.show()"
   ]
  },
  {
   "cell_type": "code",
   "execution_count": 52,
   "metadata": {},
   "outputs": [
    {
     "name": "stdout",
     "output_type": "stream",
     "text": [
      "0    0.02\n",
      "1    0.01\n",
      "2    0.02\n",
      "3    0.01\n",
      "4    0.02\n",
      "5    0.06\n",
      "Name: condition, dtype: float64\n",
      "\n",
      "0.02\n"
     ]
    }
   ],
   "source": [
    "# check if this amount of low mileage values has something to do with condition:\n",
    "print(round(data_filtered.query('mileage_per_year <= 50').condition.value_counts() / data_filtered.condition.value_counts(),2))\n",
    "print()\n",
    "print(round(len(data_filtered.query('mileage_per_year <= 50')) / len(data_filtered),2))"
   ]
  },
  {
   "cell_type": "code",
   "execution_count": 53,
   "metadata": {},
   "outputs": [],
   "source": [
    "# the distribution of values is even and corellating to overall data, so I still don't have explanation for those values.\n",
    "# and because we are talking about only 2% of the dataset, I would prefer to remove them for good\n",
    "\n",
    "data_filtered = data_filtered.query('mileage_per_year >= 50')"
   ]
  },
  {
   "cell_type": "markdown",
   "metadata": {},
   "source": [
    "**Notes**:\n",
    "\n",
    "* *Price*: nice and consistent histogram, in which in values up to 5,000 the prices are rising fast, and then they gradually decline. \n",
    "\n",
    "* *Vehicle_age*: the ages are rising constantly up to 6 years, then the decline starts. The decline is consistent for most, except for small drop in values amount (compared to overall picture) around 8 years.\n",
    "\n",
    "* *Odometer*: the graph looks good for most, except for peaks in amount of values right in the middle (for example, around 100k). I think those values peaked because of filling empty values with averages, which caused for large amount of exactly the same values. \n",
    "\n",
    "* *Mileage per year*: this value had an unusual spike in low values and I could not find explanation for it, so I removed lowest values (around 2% of overall data).\n",
    "\n",
    "* *Cylinders*: the representation of cylinders in cars more or less corellates overall known picture: very little of 7-cylinder and 10-or-more-cylinder cars (which are known to be less popular) and more or less even amount of other.\n",
    "\n",
    "* *Condition*: most of the cars are in excellent and good condition. Also there are smaller amount of 'like new' or 'new' cars, and even smaller of 'fair' and 'salvage'."
   ]
  },
  {
   "cell_type": "markdown",
   "metadata": {},
   "source": [
    "### Days listed"
   ]
  },
  {
   "cell_type": "code",
   "execution_count": 54,
   "metadata": {},
   "outputs": [
    {
     "data": {
      "text/plain": [
       "count    43480.000000\n",
       "mean        39.588730\n",
       "std         28.256933\n",
       "min          0.000000\n",
       "25%         19.000000\n",
       "50%         33.000000\n",
       "75%         53.000000\n",
       "max        271.000000\n",
       "Name: days_listed, dtype: float64"
      ]
     },
     "execution_count": 54,
     "metadata": {},
     "output_type": "execute_result"
    }
   ],
   "source": [
    "# numerical description:\n",
    "\n",
    "data_filtered.days_listed.describe()"
   ]
  },
  {
   "cell_type": "code",
   "execution_count": 55,
   "metadata": {},
   "outputs": [
    {
     "data": {
      "image/png": "[encoded data removed]",
      "text/plain": [
       "<Figure size 432x288 with 1 Axes>"
      ]
     },
     "metadata": {
      "needs_background": "light"
     },
     "output_type": "display_data"
    }
   ],
   "source": [
    "# histogram\n",
    "data_filtered.days_listed.hist(bins = 50)\n",
    "plt.title('Days listed histogram', fontsize = 18)\n",
    "plt.ylabel('Amount of values', fontsize = 14)\n",
    "plt.xlabel('Days listed', fontsize = 14)\n",
    "plt.show()"
   ]
  },
  {
   "cell_type": "code",
   "execution_count": 56,
   "metadata": {},
   "outputs": [
    {
     "data": {
      "image/png": "[encoded data removed]",
      "text/plain": [
       "<Figure size 360x360 with 1 Axes>"
      ]
     },
     "metadata": {
      "needs_background": "light"
     },
     "output_type": "display_data"
    }
   ],
   "source": [
    "# mean looks somewhat higher than median. Now for the boxplot:\n",
    "\n",
    "data_filtered.days_listed.plot(kind = 'box',figsize = (5,5))\n",
    "plt.ylim(-5,275)\n",
    "plt.title('Days listed boxplot', fontsize = 14)\n",
    "plt.xlabel('Distribution of values')\n",
    "plt.ylabel('Amount of days')\n",
    "plt.show()"
   ]
  },
  {
   "cell_type": "markdown",
   "metadata": {},
   "source": [
    "**Notes**:\n",
    "\n",
    "Our average ad is listed for 20 to 50 days. Ads that was removed from day 0 to 20 were removed quickly, and ads that lasted from 50 to 105 days lasted longer than average. Ads that lasted for more than 105 days are clearly an outliers. Maybe the price was too high or condition too bad so no one wanted to buy them. \n",
    "\n",
    "I will take a look at those outliers before removing them for good."
   ]
  },
  {
   "cell_type": "code",
   "execution_count": 57,
   "metadata": {},
   "outputs": [
    {
     "name": "stdout",
     "output_type": "stream",
     "text": [
      "0.03\n",
      "\n"
     ]
    },
    {
     "data": {
      "text/html": [
       "<div>\n",
       "<style scoped>\n",
       "    .dataframe tbody tr th:only-of-type {\n",
       "        vertical-align: middle;\n",
       "    }\n",
       "\n",
       "    .dataframe tbody tr th {\n",
       "        vertical-align: top;\n",
       "    }\n",
       "\n",
       "    .dataframe thead th {\n",
       "        text-align: right;\n",
       "    }\n",
       "</style>\n",
       "<table border=\"1\" class=\"dataframe\">\n",
       "  <thead>\n",
       "    <tr style=\"text-align: right;\">\n",
       "      <th></th>\n",
       "      <th>price</th>\n",
       "      <th>model_year</th>\n",
       "      <th>model</th>\n",
       "      <th>condition</th>\n",
       "      <th>cylinders</th>\n",
       "      <th>odometer</th>\n",
       "      <th>is_4wd</th>\n",
       "      <th>transmission</th>\n",
       "      <th>type</th>\n",
       "      <th>paint_color</th>\n",
       "      <th>date_posted</th>\n",
       "      <th>days_listed</th>\n",
       "      <th>day_of_week</th>\n",
       "      <th>month</th>\n",
       "      <th>year</th>\n",
       "      <th>vehicle_age</th>\n",
       "      <th>mileage_per_year</th>\n",
       "    </tr>\n",
       "  </thead>\n",
       "  <tbody>\n",
       "    <tr>\n",
       "      <th>4360</th>\n",
       "      <td>5200</td>\n",
       "      <td>2011</td>\n",
       "      <td>chevrolet impala</td>\n",
       "      <td>4</td>\n",
       "      <td>6</td>\n",
       "      <td>122000</td>\n",
       "      <td>False</td>\n",
       "      <td>automatic</td>\n",
       "      <td>sedan</td>\n",
       "      <td>unknown</td>\n",
       "      <td>2018-05-24</td>\n",
       "      <td>271</td>\n",
       "      <td>Thursday</td>\n",
       "      <td>May</td>\n",
       "      <td>2018</td>\n",
       "      <td>7</td>\n",
       "      <td>17428</td>\n",
       "    </tr>\n",
       "    <tr>\n",
       "      <th>28756</th>\n",
       "      <td>5500</td>\n",
       "      <td>2011</td>\n",
       "      <td>nissan versa</td>\n",
       "      <td>3</td>\n",
       "      <td>4</td>\n",
       "      <td>96000</td>\n",
       "      <td>False</td>\n",
       "      <td>automatic</td>\n",
       "      <td>hatchback</td>\n",
       "      <td>blue</td>\n",
       "      <td>2019-01-08</td>\n",
       "      <td>267</td>\n",
       "      <td>Tuesday</td>\n",
       "      <td>January</td>\n",
       "      <td>2019</td>\n",
       "      <td>8</td>\n",
       "      <td>12000</td>\n",
       "    </tr>\n",
       "    <tr>\n",
       "      <th>2224</th>\n",
       "      <td>5995</td>\n",
       "      <td>2004</td>\n",
       "      <td>ford f-250</td>\n",
       "      <td>2</td>\n",
       "      <td>8</td>\n",
       "      <td>103000</td>\n",
       "      <td>True</td>\n",
       "      <td>automatic</td>\n",
       "      <td>truck</td>\n",
       "      <td>red</td>\n",
       "      <td>2019-01-24</td>\n",
       "      <td>263</td>\n",
       "      <td>Thursday</td>\n",
       "      <td>January</td>\n",
       "      <td>2019</td>\n",
       "      <td>15</td>\n",
       "      <td>6866</td>\n",
       "    </tr>\n",
       "    <tr>\n",
       "      <th>51</th>\n",
       "      <td>3800</td>\n",
       "      <td>2012</td>\n",
       "      <td>ford focus</td>\n",
       "      <td>2</td>\n",
       "      <td>4</td>\n",
       "      <td>130323</td>\n",
       "      <td>False</td>\n",
       "      <td>automatic</td>\n",
       "      <td>sedan</td>\n",
       "      <td>black</td>\n",
       "      <td>2018-11-29</td>\n",
       "      <td>261</td>\n",
       "      <td>Thursday</td>\n",
       "      <td>November</td>\n",
       "      <td>2018</td>\n",
       "      <td>6</td>\n",
       "      <td>21720</td>\n",
       "    </tr>\n",
       "    <tr>\n",
       "      <th>7875</th>\n",
       "      <td>8980</td>\n",
       "      <td>2013</td>\n",
       "      <td>nissan altima</td>\n",
       "      <td>3</td>\n",
       "      <td>6</td>\n",
       "      <td>101611</td>\n",
       "      <td>False</td>\n",
       "      <td>automatic</td>\n",
       "      <td>coupe</td>\n",
       "      <td>blue</td>\n",
       "      <td>2019-02-02</td>\n",
       "      <td>256</td>\n",
       "      <td>Saturday</td>\n",
       "      <td>February</td>\n",
       "      <td>2019</td>\n",
       "      <td>6</td>\n",
       "      <td>16935</td>\n",
       "    </tr>\n",
       "  </tbody>\n",
       "</table>\n",
       "</div>"
      ],
      "text/plain": [
       "       price  model_year             model  condition  cylinders  odometer  \\\n",
       "4360    5200        2011  chevrolet impala          4          6    122000   \n",
       "28756   5500        2011      nissan versa          3          4     96000   \n",
       "2224    5995        2004        ford f-250          2          8    103000   \n",
       "51      3800        2012        ford focus          2          4    130323   \n",
       "7875    8980        2013     nissan altima          3          6    101611   \n",
       "\n",
       "       is_4wd transmission       type paint_color date_posted  days_listed  \\\n",
       "4360    False    automatic      sedan     unknown  2018-05-24          271   \n",
       "28756   False    automatic  hatchback        blue  2019-01-08          267   \n",
       "2224     True    automatic      truck         red  2019-01-24          263   \n",
       "51      False    automatic      sedan       black  2018-11-29          261   \n",
       "7875    False    automatic      coupe        blue  2019-02-02          256   \n",
       "\n",
       "      day_of_week     month  year  vehicle_age  mileage_per_year  \n",
       "4360     Thursday       May  2018            7             17428  \n",
       "28756     Tuesday   January  2019            8             12000  \n",
       "2224     Thursday   January  2019           15              6866  \n",
       "51       Thursday  November  2018            6             21720  \n",
       "7875     Saturday  February  2019            6             16935  "
      ]
     },
     "execution_count": 57,
     "metadata": {},
     "output_type": "execute_result"
    }
   ],
   "source": [
    "# the share of those outliers in overall dataset\n",
    "print(round(len(data_filtered.query('days_listed > 105')) / len(data_filtered), 3))\n",
    "print()\n",
    "\n",
    "# taking a look:\n",
    "data_filtered.query('days_listed > 105').sort_values('days_listed', ascending = False).head()"
   ]
  },
  {
   "cell_type": "code",
   "execution_count": null,
   "metadata": {},
   "outputs": [],
   "source": [
    "# I do see some high odometer values and the condition values are lower than average. \n",
    "# Also the price in those values looks really low, most likely because no one wanted to buy those cars."
   ]
  },
  {
   "cell_type": "markdown",
   "metadata": {},
   "source": [
    "<br><br>\n",
    "[^^^ Back to the Table of Contents ^^^](#Table-of-Contents:)"
   ]
  },
  {
   "cell_type": "markdown",
   "metadata": {},
   "source": [
    "### Prices analysis"
   ]
  },
  {
   "cell_type": "code",
   "execution_count": 58,
   "metadata": {},
   "outputs": [
    {
     "data": {
      "image/png": "[encoded data removed]",
      "text/plain": [
       "<Figure size 864x360 with 1 Axes>"
      ]
     },
     "metadata": {
      "needs_background": "light"
     },
     "output_type": "display_data"
    }
   ],
   "source": [
    "# variable for counting the values (I need it also for writing exact numbers over each bar)\n",
    "ads_by_type = data_filtered.type.value_counts().sort_values(ascending = False)\n",
    "\n",
    "data_filtered.groupby('type').type.count().sort_values(ascending = False).plot(\n",
    "    kind = 'bar', rot = 30, figsize = (12,5), fontsize = 12, color = 'purple')\n",
    "plt.title('Car advertisements count by type', fontsize=16)\n",
    "plt.ylabel('Total amount of ads', fontsize=12)\n",
    "plt.xlabel('Car types', fontsize=12)\n",
    "\n",
    "for i, (x, y) in enumerate(ads_by_type.to_dict().items()):\n",
    "    plt.text(i -0.2, y, s=str(round(y, 2)), fontsize=10)\n",
    "    \n",
    "plt.show()"
   ]
  },
  {
   "cell_type": "markdown",
   "metadata": {},
   "source": [
    "**Notes**:\n",
    "\n",
    "SUV's and sedans are listed in greatest number of ads, so I will proceed with those two types."
   ]
  },
  {
   "cell_type": "markdown",
   "metadata": {},
   "source": [
    "### SUV prices"
   ]
  },
  {
   "cell_type": "code",
   "execution_count": 59,
   "metadata": {},
   "outputs": [
    {
     "data": {
      "text/html": [
       "<div>\n",
       "<style scoped>\n",
       "    .dataframe tbody tr th:only-of-type {\n",
       "        vertical-align: middle;\n",
       "    }\n",
       "\n",
       "    .dataframe tbody tr th {\n",
       "        vertical-align: top;\n",
       "    }\n",
       "\n",
       "    .dataframe thead th {\n",
       "        text-align: right;\n",
       "    }\n",
       "</style>\n",
       "<table border=\"1\" class=\"dataframe\">\n",
       "  <thead>\n",
       "    <tr style=\"text-align: right;\">\n",
       "      <th></th>\n",
       "      <th>model</th>\n",
       "      <th>condition</th>\n",
       "      <th>vehicle_age</th>\n",
       "      <th>odometer</th>\n",
       "      <th>mileage_per_year</th>\n",
       "      <th>paint_color</th>\n",
       "      <th>transmission</th>\n",
       "      <th>price</th>\n",
       "    </tr>\n",
       "  </thead>\n",
       "  <tbody>\n",
       "    <tr>\n",
       "      <th>0</th>\n",
       "      <td>bmw x5</td>\n",
       "      <td>2</td>\n",
       "      <td>7</td>\n",
       "      <td>145000</td>\n",
       "      <td>20714</td>\n",
       "      <td>unknown</td>\n",
       "      <td>automatic</td>\n",
       "      <td>9400</td>\n",
       "    </tr>\n",
       "    <tr>\n",
       "      <th>7</th>\n",
       "      <td>honda pilot</td>\n",
       "      <td>3</td>\n",
       "      <td>6</td>\n",
       "      <td>109473</td>\n",
       "      <td>18245</td>\n",
       "      <td>black</td>\n",
       "      <td>automatic</td>\n",
       "      <td>15990</td>\n",
       "    </tr>\n",
       "    <tr>\n",
       "      <th>8</th>\n",
       "      <td>kia sorento</td>\n",
       "      <td>3</td>\n",
       "      <td>6</td>\n",
       "      <td>104174</td>\n",
       "      <td>17362</td>\n",
       "      <td>unknown</td>\n",
       "      <td>automatic</td>\n",
       "      <td>11500</td>\n",
       "    </tr>\n",
       "    <tr>\n",
       "      <th>9</th>\n",
       "      <td>honda pilot</td>\n",
       "      <td>3</td>\n",
       "      <td>11</td>\n",
       "      <td>147191</td>\n",
       "      <td>13381</td>\n",
       "      <td>blue</td>\n",
       "      <td>automatic</td>\n",
       "      <td>9200</td>\n",
       "    </tr>\n",
       "    <tr>\n",
       "      <th>14</th>\n",
       "      <td>gmc yukon</td>\n",
       "      <td>3</td>\n",
       "      <td>10</td>\n",
       "      <td>132285</td>\n",
       "      <td>13228</td>\n",
       "      <td>black</td>\n",
       "      <td>automatic</td>\n",
       "      <td>12990</td>\n",
       "    </tr>\n",
       "  </tbody>\n",
       "</table>\n",
       "</div>"
      ],
      "text/plain": [
       "          model  condition  vehicle_age  odometer  mileage_per_year  \\\n",
       "0        bmw x5          2            7    145000             20714   \n",
       "7   honda pilot          3            6    109473             18245   \n",
       "8   kia sorento          3            6    104174             17362   \n",
       "9   honda pilot          3           11    147191             13381   \n",
       "14    gmc yukon          3           10    132285             13228   \n",
       "\n",
       "   paint_color transmission  price  \n",
       "0      unknown    automatic   9400  \n",
       "7        black    automatic  15990  \n",
       "8      unknown    automatic  11500  \n",
       "9         blue    automatic   9200  \n",
       "14       black    automatic  12990  "
      ]
     },
     "execution_count": 59,
     "metadata": {},
     "output_type": "execute_result"
    }
   ],
   "source": [
    "# separate dataframe with the columns I plan to analyze and leaving only ads with SUV type cars.\n",
    "suv_data = data_filtered.query('type == \"SUV\"')[\n",
    "    ['model', 'condition', 'vehicle_age', 'odometer', 'mileage_per_year', 'paint_color', 'transmission', 'price']]\n",
    "\n",
    "suv_data.head()"
   ]
  },
  {
   "cell_type": "code",
   "execution_count": 60,
   "metadata": {},
   "outputs": [
    {
     "data": {
      "image/png": "[encoded data removed]",
      "text/plain": [
       "<Figure size 432x288 with 1 Axes>"
      ]
     },
     "metadata": {
      "needs_background": "light"
     },
     "output_type": "display_data"
    },
    {
     "data": {
      "image/png": "[encoded data removed]",
      "text/plain": [
       "<Figure size 432x288 with 1 Axes>"
      ]
     },
     "metadata": {
      "needs_background": "light"
     },
     "output_type": "display_data"
    },
    {
     "data": {
      "image/png": "[encoded data removed]",
      "text/plain": [
       "<Figure size 432x288 with 1 Axes>"
      ]
     },
     "metadata": {
      "needs_background": "light"
     },
     "output_type": "display_data"
    }
   ],
   "source": [
    "# list of numerical columns for scatterplots; will be also useful later while analizing sedan data\n",
    "num_columns = ['vehicle_age', 'odometer', 'mileage_per_year'] \n",
    "\n",
    "for column in num_columns: # loop for creating scatterplots\n",
    "    suv_data.plot(kind = 'scatter', x = column, y = 'price')\n",
    "    title = column.replace('_', ' ').capitalize()\n",
    "    plt.title(\"{}'s influence on price of SUV's\".format(title), fontsize = 18)\n",
    "    plt.ylabel('Price', fontsize=12)\n",
    "    plt.xlabel('{} values'.format(title), fontsize=12)\n",
    "    plt.show()"
   ]
  },
  {
   "cell_type": "code",
   "execution_count": 61,
   "metadata": {},
   "outputs": [
    {
     "data": {
      "text/html": [
       "<div>\n",
       "<style scoped>\n",
       "    .dataframe tbody tr th:only-of-type {\n",
       "        vertical-align: middle;\n",
       "    }\n",
       "\n",
       "    .dataframe tbody tr th {\n",
       "        vertical-align: top;\n",
       "    }\n",
       "\n",
       "    .dataframe thead th {\n",
       "        text-align: right;\n",
       "    }\n",
       "</style>\n",
       "<table border=\"1\" class=\"dataframe\">\n",
       "  <thead>\n",
       "    <tr style=\"text-align: right;\">\n",
       "      <th></th>\n",
       "      <th>condition</th>\n",
       "      <th>vehicle_age</th>\n",
       "      <th>odometer</th>\n",
       "      <th>mileage_per_year</th>\n",
       "      <th>price</th>\n",
       "    </tr>\n",
       "  </thead>\n",
       "  <tbody>\n",
       "    <tr>\n",
       "      <th>condition</th>\n",
       "      <td>1.000000</td>\n",
       "      <td>-0.287881</td>\n",
       "      <td>-0.310136</td>\n",
       "      <td>0.073733</td>\n",
       "      <td>0.276854</td>\n",
       "    </tr>\n",
       "    <tr>\n",
       "      <th>vehicle_age</th>\n",
       "      <td>-0.287881</td>\n",
       "      <td>1.000000</td>\n",
       "      <td>0.637878</td>\n",
       "      <td>-0.640449</td>\n",
       "      <td>-0.619636</td>\n",
       "    </tr>\n",
       "    <tr>\n",
       "      <th>odometer</th>\n",
       "      <td>-0.310136</td>\n",
       "      <td>0.637878</td>\n",
       "      <td>1.000000</td>\n",
       "      <td>0.011437</td>\n",
       "      <td>-0.635404</td>\n",
       "    </tr>\n",
       "    <tr>\n",
       "      <th>mileage_per_year</th>\n",
       "      <td>0.073733</td>\n",
       "      <td>-0.640449</td>\n",
       "      <td>0.011437</td>\n",
       "      <td>1.000000</td>\n",
       "      <td>0.275577</td>\n",
       "    </tr>\n",
       "    <tr>\n",
       "      <th>price</th>\n",
       "      <td>0.276854</td>\n",
       "      <td>-0.619636</td>\n",
       "      <td>-0.635404</td>\n",
       "      <td>0.275577</td>\n",
       "      <td>1.000000</td>\n",
       "    </tr>\n",
       "  </tbody>\n",
       "</table>\n",
       "</div>"
      ],
      "text/plain": [
       "                  condition  vehicle_age  odometer  mileage_per_year     price\n",
       "condition          1.000000    -0.287881 -0.310136          0.073733  0.276854\n",
       "vehicle_age       -0.287881     1.000000  0.637878         -0.640449 -0.619636\n",
       "odometer          -0.310136     0.637878  1.000000          0.011437 -0.635404\n",
       "mileage_per_year   0.073733    -0.640449  0.011437          1.000000  0.275577\n",
       "price              0.276854    -0.619636 -0.635404          0.275577  1.000000"
      ]
     },
     "execution_count": 61,
     "metadata": {},
     "output_type": "execute_result"
    }
   ],
   "source": [
    "# look at correllation matrix\n",
    "suv_data.corr()"
   ]
  },
  {
   "cell_type": "code",
   "execution_count": 62,
   "metadata": {},
   "outputs": [
    {
     "data": {
      "image/png": "[encoded data removed]",
      "text/plain": [
       "<Figure size 720x360 with 1 Axes>"
      ]
     },
     "metadata": {
      "needs_background": "light"
     },
     "output_type": "display_data"
    }
   ],
   "source": [
    "# look at the condition values via a boxplot; i exclude 0 because there are only 14 of those values:\n",
    "suv_data.query('condition != 0')[['price', 'condition']].boxplot(figsize=(10, 5), by='condition', rot = 0)\n",
    "plt.title('Correlation between condition and price', fontsize = 16)\n",
    "plt.ylabel('Price', fontsize = 14)\n",
    "plt.xlabel('condition', fontsize = 14)\n",
    "plt.xticks([1, 2, 3, 4, 5], ['fair', 'good', 'excellent', 'like new', 'new'])\n",
    "\n",
    "plt.show()"
   ]
  },
  {
   "cell_type": "code",
   "execution_count": 63,
   "metadata": {},
   "outputs": [
    {
     "data": {
      "text/html": [
       "<div>\n",
       "<style scoped>\n",
       "    .dataframe tbody tr th:only-of-type {\n",
       "        vertical-align: middle;\n",
       "    }\n",
       "\n",
       "    .dataframe tbody tr th {\n",
       "        vertical-align: top;\n",
       "    }\n",
       "\n",
       "    .dataframe thead th {\n",
       "        text-align: right;\n",
       "    }\n",
       "</style>\n",
       "<table border=\"1\" class=\"dataframe\">\n",
       "  <thead>\n",
       "    <tr style=\"text-align: right;\">\n",
       "      <th></th>\n",
       "      <th>count</th>\n",
       "      <th>mean</th>\n",
       "      <th>std</th>\n",
       "      <th>min</th>\n",
       "      <th>25%</th>\n",
       "      <th>50%</th>\n",
       "      <th>75%</th>\n",
       "      <th>max</th>\n",
       "    </tr>\n",
       "    <tr>\n",
       "      <th>paint_color</th>\n",
       "      <th></th>\n",
       "      <th></th>\n",
       "      <th></th>\n",
       "      <th></th>\n",
       "      <th></th>\n",
       "      <th></th>\n",
       "      <th></th>\n",
       "      <th></th>\n",
       "    </tr>\n",
       "  </thead>\n",
       "  <tbody>\n",
       "    <tr>\n",
       "      <th>black</th>\n",
       "      <td>1855.0</td>\n",
       "      <td>12097.011860</td>\n",
       "      <td>7321.448154</td>\n",
       "      <td>500.0</td>\n",
       "      <td>6000.00</td>\n",
       "      <td>10950.0</td>\n",
       "      <td>15995.00</td>\n",
       "      <td>34600.0</td>\n",
       "    </tr>\n",
       "    <tr>\n",
       "      <th>blue</th>\n",
       "      <td>924.0</td>\n",
       "      <td>8389.143939</td>\n",
       "      <td>5610.151358</td>\n",
       "      <td>500.0</td>\n",
       "      <td>4500.00</td>\n",
       "      <td>6950.0</td>\n",
       "      <td>10499.25</td>\n",
       "      <td>34988.0</td>\n",
       "    </tr>\n",
       "    <tr>\n",
       "      <th>brown</th>\n",
       "      <td>339.0</td>\n",
       "      <td>8506.622419</td>\n",
       "      <td>5614.666684</td>\n",
       "      <td>500.0</td>\n",
       "      <td>4000.00</td>\n",
       "      <td>7399.0</td>\n",
       "      <td>11800.00</td>\n",
       "      <td>34988.0</td>\n",
       "    </tr>\n",
       "    <tr>\n",
       "      <th>custom</th>\n",
       "      <td>258.0</td>\n",
       "      <td>9873.511628</td>\n",
       "      <td>6004.654167</td>\n",
       "      <td>800.0</td>\n",
       "      <td>5961.25</td>\n",
       "      <td>8495.0</td>\n",
       "      <td>12990.00</td>\n",
       "      <td>35000.0</td>\n",
       "    </tr>\n",
       "    <tr>\n",
       "      <th>green</th>\n",
       "      <td>382.0</td>\n",
       "      <td>8096.321990</td>\n",
       "      <td>5546.890610</td>\n",
       "      <td>500.0</td>\n",
       "      <td>3500.00</td>\n",
       "      <td>6000.0</td>\n",
       "      <td>11971.25</td>\n",
       "      <td>25950.0</td>\n",
       "    </tr>\n",
       "    <tr>\n",
       "      <th>grey</th>\n",
       "      <td>1052.0</td>\n",
       "      <td>10252.919202</td>\n",
       "      <td>6924.879283</td>\n",
       "      <td>500.0</td>\n",
       "      <td>4995.00</td>\n",
       "      <td>8412.5</td>\n",
       "      <td>13708.75</td>\n",
       "      <td>34994.0</td>\n",
       "    </tr>\n",
       "    <tr>\n",
       "      <th>orange</th>\n",
       "      <td>74.0</td>\n",
       "      <td>15263.729730</td>\n",
       "      <td>6569.972582</td>\n",
       "      <td>900.0</td>\n",
       "      <td>10239.75</td>\n",
       "      <td>16900.0</td>\n",
       "      <td>17372.25</td>\n",
       "      <td>30000.0</td>\n",
       "    </tr>\n",
       "    <tr>\n",
       "      <th>purple</th>\n",
       "      <td>36.0</td>\n",
       "      <td>6808.888889</td>\n",
       "      <td>4151.835882</td>\n",
       "      <td>1000.0</td>\n",
       "      <td>4995.00</td>\n",
       "      <td>5550.0</td>\n",
       "      <td>8620.00</td>\n",
       "      <td>19995.0</td>\n",
       "    </tr>\n",
       "    <tr>\n",
       "      <th>red</th>\n",
       "      <td>814.0</td>\n",
       "      <td>9479.463145</td>\n",
       "      <td>6320.935306</td>\n",
       "      <td>600.0</td>\n",
       "      <td>4592.50</td>\n",
       "      <td>7600.0</td>\n",
       "      <td>12995.00</td>\n",
       "      <td>34999.0</td>\n",
       "    </tr>\n",
       "    <tr>\n",
       "      <th>silver</th>\n",
       "      <td>1382.0</td>\n",
       "      <td>9714.840810</td>\n",
       "      <td>5977.216081</td>\n",
       "      <td>600.0</td>\n",
       "      <td>5112.50</td>\n",
       "      <td>7999.0</td>\n",
       "      <td>12995.00</td>\n",
       "      <td>34595.0</td>\n",
       "    </tr>\n",
       "    <tr>\n",
       "      <th>unknown</th>\n",
       "      <td>1925.0</td>\n",
       "      <td>10405.851948</td>\n",
       "      <td>6830.404066</td>\n",
       "      <td>500.0</td>\n",
       "      <td>5495.00</td>\n",
       "      <td>8500.0</td>\n",
       "      <td>13950.00</td>\n",
       "      <td>35000.0</td>\n",
       "    </tr>\n",
       "    <tr>\n",
       "      <th>white</th>\n",
       "      <td>1694.0</td>\n",
       "      <td>11269.426210</td>\n",
       "      <td>7305.777777</td>\n",
       "      <td>500.0</td>\n",
       "      <td>5900.00</td>\n",
       "      <td>9497.0</td>\n",
       "      <td>14994.00</td>\n",
       "      <td>35000.0</td>\n",
       "    </tr>\n",
       "    <tr>\n",
       "      <th>yellow</th>\n",
       "      <td>42.0</td>\n",
       "      <td>13367.619048</td>\n",
       "      <td>8275.684344</td>\n",
       "      <td>500.0</td>\n",
       "      <td>6200.00</td>\n",
       "      <td>12725.0</td>\n",
       "      <td>18746.25</td>\n",
       "      <td>29997.0</td>\n",
       "    </tr>\n",
       "  </tbody>\n",
       "</table>\n",
       "</div>"
      ],
      "text/plain": [
       "              count          mean          std     min       25%      50%  \\\n",
       "paint_color                                                                 \n",
       "black        1855.0  12097.011860  7321.448154   500.0   6000.00  10950.0   \n",
       "blue          924.0   8389.143939  5610.151358   500.0   4500.00   6950.0   \n",
       "brown         339.0   8506.622419  5614.666684   500.0   4000.00   7399.0   \n",
       "custom        258.0   9873.511628  6004.654167   800.0   5961.25   8495.0   \n",
       "green         382.0   8096.321990  5546.890610   500.0   3500.00   6000.0   \n",
       "grey         1052.0  10252.919202  6924.879283   500.0   4995.00   8412.5   \n",
       "orange         74.0  15263.729730  6569.972582   900.0  10239.75  16900.0   \n",
       "purple         36.0   6808.888889  4151.835882  1000.0   4995.00   5550.0   \n",
       "red           814.0   9479.463145  6320.935306   600.0   4592.50   7600.0   \n",
       "silver       1382.0   9714.840810  5977.216081   600.0   5112.50   7999.0   \n",
       "unknown      1925.0  10405.851948  6830.404066   500.0   5495.00   8500.0   \n",
       "white        1694.0  11269.426210  7305.777777   500.0   5900.00   9497.0   \n",
       "yellow         42.0  13367.619048  8275.684344   500.0   6200.00  12725.0   \n",
       "\n",
       "                  75%      max  \n",
       "paint_color                     \n",
       "black        15995.00  34600.0  \n",
       "blue         10499.25  34988.0  \n",
       "brown        11800.00  34988.0  \n",
       "custom       12990.00  35000.0  \n",
       "green        11971.25  25950.0  \n",
       "grey         13708.75  34994.0  \n",
       "orange       17372.25  30000.0  \n",
       "purple        8620.00  19995.0  \n",
       "red          12995.00  34999.0  \n",
       "silver       12995.00  34595.0  \n",
       "unknown      13950.00  35000.0  \n",
       "white        14994.00  35000.0  \n",
       "yellow       18746.25  29997.0  "
      ]
     },
     "execution_count": 63,
     "metadata": {},
     "output_type": "execute_result"
    }
   ],
   "source": [
    "# numerical description of prices by pain color\n",
    "suv_data.groupby('paint_color')['price'].describe()"
   ]
  },
  {
   "cell_type": "code",
   "execution_count": 64,
   "metadata": {},
   "outputs": [
    {
     "data": {
      "image/png": "[encoded data removed]",
      "text/plain": [
       "<Figure size 720x360 with 1 Axes>"
      ]
     },
     "metadata": {
      "needs_background": "light"
     },
     "output_type": "display_data"
    }
   ],
   "source": [
    "# Paint color boxplot; there are too little of purple and yellow, and 'other' isn't informative enough, so I exclude them.\n",
    "suv_data.query('paint_color != [\"purple\", \"yellow\", \"other\"]')[['price', 'paint_color']].boxplot(figsize=(10, 5), by='paint_color', rot = 45)\n",
    "plt.title('Correlation between paint color and price', fontsize = 16)\n",
    "plt.ylabel('Price', fontsize = 14)\n",
    "plt.xlabel('Paint color', fontsize = 14)\n",
    "plt.show()"
   ]
  },
  {
   "cell_type": "code",
   "execution_count": 65,
   "metadata": {},
   "outputs": [
    {
     "data": {
      "text/html": [
       "<div>\n",
       "<style scoped>\n",
       "    .dataframe tbody tr th:only-of-type {\n",
       "        vertical-align: middle;\n",
       "    }\n",
       "\n",
       "    .dataframe tbody tr th {\n",
       "        vertical-align: top;\n",
       "    }\n",
       "\n",
       "    .dataframe thead th {\n",
       "        text-align: right;\n",
       "    }\n",
       "</style>\n",
       "<table border=\"1\" class=\"dataframe\">\n",
       "  <thead>\n",
       "    <tr style=\"text-align: right;\">\n",
       "      <th></th>\n",
       "      <th>count</th>\n",
       "      <th>mean</th>\n",
       "      <th>std</th>\n",
       "      <th>min</th>\n",
       "      <th>25%</th>\n",
       "      <th>50%</th>\n",
       "      <th>75%</th>\n",
       "      <th>max</th>\n",
       "    </tr>\n",
       "    <tr>\n",
       "      <th>transmission</th>\n",
       "      <th></th>\n",
       "      <th></th>\n",
       "      <th></th>\n",
       "      <th></th>\n",
       "      <th></th>\n",
       "      <th></th>\n",
       "      <th></th>\n",
       "      <th></th>\n",
       "    </tr>\n",
       "  </thead>\n",
       "  <tbody>\n",
       "    <tr>\n",
       "      <th>automatic</th>\n",
       "      <td>10232.0</td>\n",
       "      <td>10286.148554</td>\n",
       "      <td>6796.476027</td>\n",
       "      <td>500.0</td>\n",
       "      <td>5000.0</td>\n",
       "      <td>8498.5</td>\n",
       "      <td>13990.0</td>\n",
       "      <td>35000.0</td>\n",
       "    </tr>\n",
       "    <tr>\n",
       "      <th>manual</th>\n",
       "      <td>456.0</td>\n",
       "      <td>11695.506579</td>\n",
       "      <td>6580.207269</td>\n",
       "      <td>500.0</td>\n",
       "      <td>6400.0</td>\n",
       "      <td>10995.0</td>\n",
       "      <td>16491.0</td>\n",
       "      <td>31500.0</td>\n",
       "    </tr>\n",
       "    <tr>\n",
       "      <th>other</th>\n",
       "      <td>89.0</td>\n",
       "      <td>12589.011236</td>\n",
       "      <td>5826.646579</td>\n",
       "      <td>2000.0</td>\n",
       "      <td>7995.0</td>\n",
       "      <td>12900.0</td>\n",
       "      <td>16950.0</td>\n",
       "      <td>28999.0</td>\n",
       "    </tr>\n",
       "  </tbody>\n",
       "</table>\n",
       "</div>"
      ],
      "text/plain": [
       "                count          mean          std     min     25%      50%  \\\n",
       "transmission                                                                \n",
       "automatic     10232.0  10286.148554  6796.476027   500.0  5000.0   8498.5   \n",
       "manual          456.0  11695.506579  6580.207269   500.0  6400.0  10995.0   \n",
       "other            89.0  12589.011236  5826.646579  2000.0  7995.0  12900.0   \n",
       "\n",
       "                  75%      max  \n",
       "transmission                    \n",
       "automatic     13990.0  35000.0  \n",
       "manual        16491.0  31500.0  \n",
       "other         16950.0  28999.0  "
      ]
     },
     "execution_count": 65,
     "metadata": {},
     "output_type": "execute_result"
    }
   ],
   "source": [
    "# numerical description of prices by transmission\n",
    "suv_data.groupby('transmission')['price'].describe()"
   ]
  },
  {
   "cell_type": "code",
   "execution_count": 66,
   "metadata": {},
   "outputs": [
    {
     "data": {
      "image/png": "[encoded data removed]",
      "text/plain": [
       "<Figure size 720x360 with 1 Axes>"
      ]
     },
     "metadata": {
      "needs_background": "light"
     },
     "output_type": "display_data"
    }
   ],
   "source": [
    "# Transmission type boxplot\n",
    "suv_data[['price', 'transmission']].boxplot(figsize=(10, 5), by='transmission', rot = 0)\n",
    "plt.title('Correlation between transmission type and price', fontsize = 16)\n",
    "plt.ylabel('Price', fontsize = 14)\n",
    "plt.xlabel('Transmission type', fontsize = 14)\n",
    "plt.show()"
   ]
  },
  {
   "cell_type": "markdown",
   "metadata": {},
   "source": [
    "### SUV conclusion:\n",
    "\n",
    "* *Vehicle's age*: I see negative correlation, meaning the lower the car's age, the higher the price. \n",
    "\n",
    "\n",
    "* *Odometer*: though at the lower odometer values there are many outliers, here I also see reverse connection: as the odometer value lowers, the price climbs up. \n",
    "\n",
    "\n",
    "* *Mileage per year*: unexpectedly, the higher prices are for vehicle with middle mileage: if I ignore the isolated dots, the peak appears to be somewhere between 10 and 20 thousand per year. It is also confirmed by correlation coefficient, which shows small positive correlation. \n",
    "\n",
    "\n",
    "* *Condition*: the better the condition, the higher the price: like new and new vehicles are the most expensive, and vehicles in fair condition are the cheapest. There are a lot of very high values in 'excellent' category too, but according to boxplot they should be treated as outliers, and the q3 + 1.5iqr is still considerably higher for the 'like new' and 'new'.\n",
    "\n",
    "\n",
    "* *Paint color*: orange seems to be the most expensive, but it is quite irrational and after examining total amount of orange car ads I prefer to discount this color: though 63 is higher than 50, it is still highly unlikely for orange color to be that popular and therefore the result must be distorted because of little amount of data. If I exclude orange, the most expensive color is black, and second expensive is white. The cheapest color is blue.\n",
    "\n",
    "\n",
    "* *Transmission*: most of the automatic high price values are considered outliers, so in this category manual transmission vehicles are slightly more expensive."
   ]
  },
  {
   "cell_type": "markdown",
   "metadata": {},
   "source": [
    "### Sedan prices"
   ]
  },
  {
   "cell_type": "code",
   "execution_count": 67,
   "metadata": {},
   "outputs": [
    {
     "data": {
      "text/html": [
       "<div>\n",
       "<style scoped>\n",
       "    .dataframe tbody tr th:only-of-type {\n",
       "        vertical-align: middle;\n",
       "    }\n",
       "\n",
       "    .dataframe tbody tr th {\n",
       "        vertical-align: top;\n",
       "    }\n",
       "\n",
       "    .dataframe thead th {\n",
       "        text-align: right;\n",
       "    }\n",
       "</style>\n",
       "<table border=\"1\" class=\"dataframe\">\n",
       "  <thead>\n",
       "    <tr style=\"text-align: right;\">\n",
       "      <th></th>\n",
       "      <th>model</th>\n",
       "      <th>condition</th>\n",
       "      <th>vehicle_age</th>\n",
       "      <th>odometer</th>\n",
       "      <th>mileage_per_year</th>\n",
       "      <th>paint_color</th>\n",
       "      <th>transmission</th>\n",
       "      <th>price</th>\n",
       "    </tr>\n",
       "  </thead>\n",
       "  <tbody>\n",
       "    <tr>\n",
       "      <th>2</th>\n",
       "      <td>hyundai sonata</td>\n",
       "      <td>4</td>\n",
       "      <td>6</td>\n",
       "      <td>110000</td>\n",
       "      <td>18333</td>\n",
       "      <td>red</td>\n",
       "      <td>automatic</td>\n",
       "      <td>5500</td>\n",
       "    </tr>\n",
       "    <tr>\n",
       "      <th>5</th>\n",
       "      <td>chrysler 300</td>\n",
       "      <td>3</td>\n",
       "      <td>4</td>\n",
       "      <td>57954</td>\n",
       "      <td>14488</td>\n",
       "      <td>black</td>\n",
       "      <td>automatic</td>\n",
       "      <td>14990</td>\n",
       "    </tr>\n",
       "    <tr>\n",
       "      <th>6</th>\n",
       "      <td>toyota camry</td>\n",
       "      <td>3</td>\n",
       "      <td>3</td>\n",
       "      <td>79212</td>\n",
       "      <td>26404</td>\n",
       "      <td>white</td>\n",
       "      <td>automatic</td>\n",
       "      <td>12990</td>\n",
       "    </tr>\n",
       "    <tr>\n",
       "      <th>11</th>\n",
       "      <td>honda accord</td>\n",
       "      <td>3</td>\n",
       "      <td>7</td>\n",
       "      <td>111142</td>\n",
       "      <td>15877</td>\n",
       "      <td>grey</td>\n",
       "      <td>automatic</td>\n",
       "      <td>8990</td>\n",
       "    </tr>\n",
       "    <tr>\n",
       "      <th>13</th>\n",
       "      <td>hyundai sonata</td>\n",
       "      <td>3</td>\n",
       "      <td>1</td>\n",
       "      <td>22104</td>\n",
       "      <td>22104</td>\n",
       "      <td>silver</td>\n",
       "      <td>automatic</td>\n",
       "      <td>16500</td>\n",
       "    </tr>\n",
       "  </tbody>\n",
       "</table>\n",
       "</div>"
      ],
      "text/plain": [
       "             model  condition  vehicle_age  odometer  mileage_per_year  \\\n",
       "2   hyundai sonata          4            6    110000             18333   \n",
       "5     chrysler 300          3            4     57954             14488   \n",
       "6     toyota camry          3            3     79212             26404   \n",
       "11    honda accord          3            7    111142             15877   \n",
       "13  hyundai sonata          3            1     22104             22104   \n",
       "\n",
       "   paint_color transmission  price  \n",
       "2          red    automatic   5500  \n",
       "5        black    automatic  14990  \n",
       "6        white    automatic  12990  \n",
       "11        grey    automatic   8990  \n",
       "13      silver    automatic  16500  "
      ]
     },
     "execution_count": 67,
     "metadata": {},
     "output_type": "execute_result"
    }
   ],
   "source": [
    "# separate dataframe with the columns I plan to analyze and leaving only ads with sedan type cars.\n",
    "sedan_data = data_filtered.query('type == \"sedan\"')[\n",
    "    ['model', 'condition', 'vehicle_age', 'odometer', 'mileage_per_year', 'paint_color', 'transmission', 'price']]\n",
    "\n",
    "sedan_data.head()"
   ]
  },
  {
   "cell_type": "code",
   "execution_count": 68,
   "metadata": {},
   "outputs": [
    {
     "data": {
      "image/png": "[encoded data removed]",
      "text/plain": [
       "<Figure size 432x288 with 1 Axes>"
      ]
     },
     "metadata": {
      "needs_background": "light"
     },
     "output_type": "display_data"
    },
    {
     "data": {
      "image/png": "[encoded data removed]",
      "text/plain": [
       "<Figure size 432x288 with 1 Axes>"
      ]
     },
     "metadata": {
      "needs_background": "light"
     },
     "output_type": "display_data"
    },
    {
     "data": {
      "image/png": "[encoded data removed]",
      "text/plain": [
       "<Figure size 432x288 with 1 Axes>"
      ]
     },
     "metadata": {
      "needs_background": "light"
     },
     "output_type": "display_data"
    }
   ],
   "source": [
    "# I excluded 'condition', it is better to be examined by boxplot\n",
    "for column in num_columns: # loop for creating scatterplots\n",
    "    sedan_data.plot(kind = 'scatter', x = column, y = 'price')\n",
    "    title = column.replace('_', ' ').capitalize()\n",
    "    plt.title(\"{}'s influence on price of sedans\".format(title), fontsize = 18)\n",
    "    plt.ylabel('Price', fontsize=12)\n",
    "    plt.xlabel('{} values'.format(title), fontsize=12)\n",
    "    plt.show()"
   ]
  },
  {
   "cell_type": "code",
   "execution_count": 69,
   "metadata": {},
   "outputs": [
    {
     "data": {
      "text/html": [
       "<div>\n",
       "<style scoped>\n",
       "    .dataframe tbody tr th:only-of-type {\n",
       "        vertical-align: middle;\n",
       "    }\n",
       "\n",
       "    .dataframe tbody tr th {\n",
       "        vertical-align: top;\n",
       "    }\n",
       "\n",
       "    .dataframe thead th {\n",
       "        text-align: right;\n",
       "    }\n",
       "</style>\n",
       "<table border=\"1\" class=\"dataframe\">\n",
       "  <thead>\n",
       "    <tr style=\"text-align: right;\">\n",
       "      <th></th>\n",
       "      <th>condition</th>\n",
       "      <th>vehicle_age</th>\n",
       "      <th>odometer</th>\n",
       "      <th>mileage_per_year</th>\n",
       "      <th>price</th>\n",
       "    </tr>\n",
       "  </thead>\n",
       "  <tbody>\n",
       "    <tr>\n",
       "      <th>condition</th>\n",
       "      <td>1.000000</td>\n",
       "      <td>-0.261800</td>\n",
       "      <td>-0.305394</td>\n",
       "      <td>0.045831</td>\n",
       "      <td>0.304495</td>\n",
       "    </tr>\n",
       "    <tr>\n",
       "      <th>vehicle_age</th>\n",
       "      <td>-0.261800</td>\n",
       "      <td>1.000000</td>\n",
       "      <td>0.622120</td>\n",
       "      <td>-0.589224</td>\n",
       "      <td>-0.647256</td>\n",
       "    </tr>\n",
       "    <tr>\n",
       "      <th>odometer</th>\n",
       "      <td>-0.305394</td>\n",
       "      <td>0.622120</td>\n",
       "      <td>1.000000</td>\n",
       "      <td>0.104731</td>\n",
       "      <td>-0.645171</td>\n",
       "    </tr>\n",
       "    <tr>\n",
       "      <th>mileage_per_year</th>\n",
       "      <td>0.045831</td>\n",
       "      <td>-0.589224</td>\n",
       "      <td>0.104731</td>\n",
       "      <td>1.000000</td>\n",
       "      <td>0.233698</td>\n",
       "    </tr>\n",
       "    <tr>\n",
       "      <th>price</th>\n",
       "      <td>0.304495</td>\n",
       "      <td>-0.647256</td>\n",
       "      <td>-0.645171</td>\n",
       "      <td>0.233698</td>\n",
       "      <td>1.000000</td>\n",
       "    </tr>\n",
       "  </tbody>\n",
       "</table>\n",
       "</div>"
      ],
      "text/plain": [
       "                  condition  vehicle_age  odometer  mileage_per_year     price\n",
       "condition          1.000000    -0.261800 -0.305394          0.045831  0.304495\n",
       "vehicle_age       -0.261800     1.000000  0.622120         -0.589224 -0.647256\n",
       "odometer          -0.305394     0.622120  1.000000          0.104731 -0.645171\n",
       "mileage_per_year   0.045831    -0.589224  0.104731          1.000000  0.233698\n",
       "price              0.304495    -0.647256 -0.645171          0.233698  1.000000"
      ]
     },
     "execution_count": 69,
     "metadata": {},
     "output_type": "execute_result"
    }
   ],
   "source": [
    "# look at correllation matrix\n",
    "sedan_data.corr()"
   ]
  },
  {
   "cell_type": "code",
   "execution_count": 70,
   "metadata": {},
   "outputs": [
    {
     "data": {
      "text/html": [
       "<div>\n",
       "<style scoped>\n",
       "    .dataframe tbody tr th:only-of-type {\n",
       "        vertical-align: middle;\n",
       "    }\n",
       "\n",
       "    .dataframe tbody tr th {\n",
       "        vertical-align: top;\n",
       "    }\n",
       "\n",
       "    .dataframe thead th {\n",
       "        text-align: right;\n",
       "    }\n",
       "</style>\n",
       "<table border=\"1\" class=\"dataframe\">\n",
       "  <thead>\n",
       "    <tr style=\"text-align: right;\">\n",
       "      <th></th>\n",
       "      <th>count</th>\n",
       "      <th>mean</th>\n",
       "      <th>std</th>\n",
       "      <th>min</th>\n",
       "      <th>25%</th>\n",
       "      <th>50%</th>\n",
       "      <th>75%</th>\n",
       "      <th>max</th>\n",
       "    </tr>\n",
       "    <tr>\n",
       "      <th>condition</th>\n",
       "      <th></th>\n",
       "      <th></th>\n",
       "      <th></th>\n",
       "      <th></th>\n",
       "      <th></th>\n",
       "      <th></th>\n",
       "      <th></th>\n",
       "      <th></th>\n",
       "    </tr>\n",
       "  </thead>\n",
       "  <tbody>\n",
       "    <tr>\n",
       "      <th>0</th>\n",
       "      <td>34.0</td>\n",
       "      <td>3338.529412</td>\n",
       "      <td>2608.272251</td>\n",
       "      <td>600.0</td>\n",
       "      <td>1500.0</td>\n",
       "      <td>2800.0</td>\n",
       "      <td>4475.0</td>\n",
       "      <td>9975.0</td>\n",
       "    </tr>\n",
       "    <tr>\n",
       "      <th>1</th>\n",
       "      <td>255.0</td>\n",
       "      <td>2107.682353</td>\n",
       "      <td>1503.961215</td>\n",
       "      <td>500.0</td>\n",
       "      <td>1000.0</td>\n",
       "      <td>1600.0</td>\n",
       "      <td>2550.0</td>\n",
       "      <td>11000.0</td>\n",
       "    </tr>\n",
       "    <tr>\n",
       "      <th>2</th>\n",
       "      <td>3994.0</td>\n",
       "      <td>5664.054832</td>\n",
       "      <td>3118.624617</td>\n",
       "      <td>500.0</td>\n",
       "      <td>3500.0</td>\n",
       "      <td>4995.0</td>\n",
       "      <td>6995.0</td>\n",
       "      <td>28500.0</td>\n",
       "    </tr>\n",
       "    <tr>\n",
       "      <th>3</th>\n",
       "      <td>5327.0</td>\n",
       "      <td>7451.762155</td>\n",
       "      <td>3771.008011</td>\n",
       "      <td>500.0</td>\n",
       "      <td>4695.0</td>\n",
       "      <td>6800.0</td>\n",
       "      <td>9800.0</td>\n",
       "      <td>31000.0</td>\n",
       "    </tr>\n",
       "    <tr>\n",
       "      <th>4</th>\n",
       "      <td>1079.0</td>\n",
       "      <td>8307.616311</td>\n",
       "      <td>4515.490326</td>\n",
       "      <td>500.0</td>\n",
       "      <td>4995.0</td>\n",
       "      <td>7495.0</td>\n",
       "      <td>10998.5</td>\n",
       "      <td>28000.0</td>\n",
       "    </tr>\n",
       "    <tr>\n",
       "      <th>5</th>\n",
       "      <td>26.0</td>\n",
       "      <td>8373.576923</td>\n",
       "      <td>5374.734875</td>\n",
       "      <td>1500.0</td>\n",
       "      <td>4762.5</td>\n",
       "      <td>7050.0</td>\n",
       "      <td>9750.0</td>\n",
       "      <td>26000.0</td>\n",
       "    </tr>\n",
       "  </tbody>\n",
       "</table>\n",
       "</div>"
      ],
      "text/plain": [
       "            count         mean          std     min     25%     50%      75%  \\\n",
       "condition                                                                      \n",
       "0            34.0  3338.529412  2608.272251   600.0  1500.0  2800.0   4475.0   \n",
       "1           255.0  2107.682353  1503.961215   500.0  1000.0  1600.0   2550.0   \n",
       "2          3994.0  5664.054832  3118.624617   500.0  3500.0  4995.0   6995.0   \n",
       "3          5327.0  7451.762155  3771.008011   500.0  4695.0  6800.0   9800.0   \n",
       "4          1079.0  8307.616311  4515.490326   500.0  4995.0  7495.0  10998.5   \n",
       "5            26.0  8373.576923  5374.734875  1500.0  4762.5  7050.0   9750.0   \n",
       "\n",
       "               max  \n",
       "condition           \n",
       "0           9975.0  \n",
       "1          11000.0  \n",
       "2          28500.0  \n",
       "3          31000.0  \n",
       "4          28000.0  \n",
       "5          26000.0  "
      ]
     },
     "execution_count": 70,
     "metadata": {},
     "output_type": "execute_result"
    }
   ],
   "source": [
    "# numerical description of prices by condition\n",
    "sedan_data.groupby('condition')['price'].describe()"
   ]
  },
  {
   "cell_type": "code",
   "execution_count": 71,
   "metadata": {},
   "outputs": [
    {
     "data": {
      "image/png": "[encoded data removed]",
      "text/plain": [
       "<Figure size 720x360 with 1 Axes>"
      ]
     },
     "metadata": {
      "needs_background": "light"
     },
     "output_type": "display_data"
    }
   ],
   "source": [
    "# look at the condition values via a boxplot; i exclude 0 because there are only 14 of those values:\n",
    "sedan_data.query('condition != 0')[['price', 'condition']].boxplot(figsize=(10, 5), by='condition', rot = 0)\n",
    "plt.title('Correlation between condition and price', fontsize = 16)\n",
    "plt.ylabel('Price', fontsize = 14)\n",
    "plt.xlabel('condition', fontsize = 14)\n",
    "plt.xticks([1, 2, 3, 4, 5], ['fair', 'good', 'excellent', 'like new', 'new'])\n",
    "\n",
    "plt.show()"
   ]
  },
  {
   "cell_type": "code",
   "execution_count": 72,
   "metadata": {},
   "outputs": [
    {
     "data": {
      "text/html": [
       "<div>\n",
       "<style scoped>\n",
       "    .dataframe tbody tr th:only-of-type {\n",
       "        vertical-align: middle;\n",
       "    }\n",
       "\n",
       "    .dataframe tbody tr th {\n",
       "        vertical-align: top;\n",
       "    }\n",
       "\n",
       "    .dataframe thead th {\n",
       "        text-align: right;\n",
       "    }\n",
       "</style>\n",
       "<table border=\"1\" class=\"dataframe\">\n",
       "  <thead>\n",
       "    <tr style=\"text-align: right;\">\n",
       "      <th></th>\n",
       "      <th>count</th>\n",
       "      <th>mean</th>\n",
       "      <th>std</th>\n",
       "      <th>min</th>\n",
       "      <th>25%</th>\n",
       "      <th>50%</th>\n",
       "      <th>75%</th>\n",
       "      <th>max</th>\n",
       "    </tr>\n",
       "    <tr>\n",
       "      <th>paint_color</th>\n",
       "      <th></th>\n",
       "      <th></th>\n",
       "      <th></th>\n",
       "      <th></th>\n",
       "      <th></th>\n",
       "      <th></th>\n",
       "      <th></th>\n",
       "      <th></th>\n",
       "    </tr>\n",
       "  </thead>\n",
       "  <tbody>\n",
       "    <tr>\n",
       "      <th>black</th>\n",
       "      <td>1554.0</td>\n",
       "      <td>7311.790862</td>\n",
       "      <td>3991.402306</td>\n",
       "      <td>500.0</td>\n",
       "      <td>4295.0</td>\n",
       "      <td>6500.0</td>\n",
       "      <td>9737.5</td>\n",
       "      <td>26988.0</td>\n",
       "    </tr>\n",
       "    <tr>\n",
       "      <th>blue</th>\n",
       "      <td>1113.0</td>\n",
       "      <td>6180.996406</td>\n",
       "      <td>3459.060223</td>\n",
       "      <td>500.0</td>\n",
       "      <td>3896.0</td>\n",
       "      <td>5500.0</td>\n",
       "      <td>7913.0</td>\n",
       "      <td>20870.0</td>\n",
       "    </tr>\n",
       "    <tr>\n",
       "      <th>brown</th>\n",
       "      <td>243.0</td>\n",
       "      <td>5140.341564</td>\n",
       "      <td>3070.392454</td>\n",
       "      <td>800.0</td>\n",
       "      <td>2995.0</td>\n",
       "      <td>4498.0</td>\n",
       "      <td>6900.0</td>\n",
       "      <td>22199.0</td>\n",
       "    </tr>\n",
       "    <tr>\n",
       "      <th>custom</th>\n",
       "      <td>248.0</td>\n",
       "      <td>6731.495968</td>\n",
       "      <td>4087.374757</td>\n",
       "      <td>500.0</td>\n",
       "      <td>3687.5</td>\n",
       "      <td>5800.0</td>\n",
       "      <td>8425.0</td>\n",
       "      <td>23995.0</td>\n",
       "    </tr>\n",
       "    <tr>\n",
       "      <th>green</th>\n",
       "      <td>189.0</td>\n",
       "      <td>4685.941799</td>\n",
       "      <td>3040.698265</td>\n",
       "      <td>500.0</td>\n",
       "      <td>2695.0</td>\n",
       "      <td>3900.0</td>\n",
       "      <td>5800.0</td>\n",
       "      <td>17999.0</td>\n",
       "    </tr>\n",
       "    <tr>\n",
       "      <th>grey</th>\n",
       "      <td>1424.0</td>\n",
       "      <td>6669.843399</td>\n",
       "      <td>3415.412385</td>\n",
       "      <td>600.0</td>\n",
       "      <td>4200.0</td>\n",
       "      <td>5995.0</td>\n",
       "      <td>8500.0</td>\n",
       "      <td>29777.0</td>\n",
       "    </tr>\n",
       "    <tr>\n",
       "      <th>orange</th>\n",
       "      <td>7.0</td>\n",
       "      <td>7363.571429</td>\n",
       "      <td>4698.560838</td>\n",
       "      <td>1950.0</td>\n",
       "      <td>4450.0</td>\n",
       "      <td>5995.0</td>\n",
       "      <td>9351.0</td>\n",
       "      <td>15998.0</td>\n",
       "    </tr>\n",
       "    <tr>\n",
       "      <th>purple</th>\n",
       "      <td>23.0</td>\n",
       "      <td>6229.217391</td>\n",
       "      <td>3402.589040</td>\n",
       "      <td>750.0</td>\n",
       "      <td>3937.5</td>\n",
       "      <td>5495.0</td>\n",
       "      <td>7897.5</td>\n",
       "      <td>13991.0</td>\n",
       "    </tr>\n",
       "    <tr>\n",
       "      <th>red</th>\n",
       "      <td>837.0</td>\n",
       "      <td>6890.457587</td>\n",
       "      <td>3864.613883</td>\n",
       "      <td>500.0</td>\n",
       "      <td>3999.0</td>\n",
       "      <td>5995.0</td>\n",
       "      <td>8995.0</td>\n",
       "      <td>25000.0</td>\n",
       "    </tr>\n",
       "    <tr>\n",
       "      <th>silver</th>\n",
       "      <td>1821.0</td>\n",
       "      <td>6563.736409</td>\n",
       "      <td>3703.038297</td>\n",
       "      <td>500.0</td>\n",
       "      <td>3900.0</td>\n",
       "      <td>5899.0</td>\n",
       "      <td>8495.0</td>\n",
       "      <td>25995.0</td>\n",
       "    </tr>\n",
       "    <tr>\n",
       "      <th>unknown</th>\n",
       "      <td>1934.0</td>\n",
       "      <td>6753.174250</td>\n",
       "      <td>3847.217547</td>\n",
       "      <td>500.0</td>\n",
       "      <td>3995.0</td>\n",
       "      <td>5995.0</td>\n",
       "      <td>8950.0</td>\n",
       "      <td>28500.0</td>\n",
       "    </tr>\n",
       "    <tr>\n",
       "      <th>white</th>\n",
       "      <td>1303.0</td>\n",
       "      <td>7310.030698</td>\n",
       "      <td>4034.713593</td>\n",
       "      <td>500.0</td>\n",
       "      <td>4500.0</td>\n",
       "      <td>6500.0</td>\n",
       "      <td>9500.0</td>\n",
       "      <td>31000.0</td>\n",
       "    </tr>\n",
       "    <tr>\n",
       "      <th>yellow</th>\n",
       "      <td>19.0</td>\n",
       "      <td>5583.315789</td>\n",
       "      <td>6413.948204</td>\n",
       "      <td>1200.0</td>\n",
       "      <td>2999.5</td>\n",
       "      <td>3800.0</td>\n",
       "      <td>5999.5</td>\n",
       "      <td>30999.0</td>\n",
       "    </tr>\n",
       "  </tbody>\n",
       "</table>\n",
       "</div>"
      ],
      "text/plain": [
       "              count         mean          std     min     25%     50%     75%  \\\n",
       "paint_color                                                                     \n",
       "black        1554.0  7311.790862  3991.402306   500.0  4295.0  6500.0  9737.5   \n",
       "blue         1113.0  6180.996406  3459.060223   500.0  3896.0  5500.0  7913.0   \n",
       "brown         243.0  5140.341564  3070.392454   800.0  2995.0  4498.0  6900.0   \n",
       "custom        248.0  6731.495968  4087.374757   500.0  3687.5  5800.0  8425.0   \n",
       "green         189.0  4685.941799  3040.698265   500.0  2695.0  3900.0  5800.0   \n",
       "grey         1424.0  6669.843399  3415.412385   600.0  4200.0  5995.0  8500.0   \n",
       "orange          7.0  7363.571429  4698.560838  1950.0  4450.0  5995.0  9351.0   \n",
       "purple         23.0  6229.217391  3402.589040   750.0  3937.5  5495.0  7897.5   \n",
       "red           837.0  6890.457587  3864.613883   500.0  3999.0  5995.0  8995.0   \n",
       "silver       1821.0  6563.736409  3703.038297   500.0  3900.0  5899.0  8495.0   \n",
       "unknown      1934.0  6753.174250  3847.217547   500.0  3995.0  5995.0  8950.0   \n",
       "white        1303.0  7310.030698  4034.713593   500.0  4500.0  6500.0  9500.0   \n",
       "yellow         19.0  5583.315789  6413.948204  1200.0  2999.5  3800.0  5999.5   \n",
       "\n",
       "                 max  \n",
       "paint_color           \n",
       "black        26988.0  \n",
       "blue         20870.0  \n",
       "brown        22199.0  \n",
       "custom       23995.0  \n",
       "green        17999.0  \n",
       "grey         29777.0  \n",
       "orange       15998.0  \n",
       "purple       13991.0  \n",
       "red          25000.0  \n",
       "silver       25995.0  \n",
       "unknown      28500.0  \n",
       "white        31000.0  \n",
       "yellow       30999.0  "
      ]
     },
     "execution_count": 72,
     "metadata": {},
     "output_type": "execute_result"
    }
   ],
   "source": [
    "# numerical description of prices by pain color\n",
    "sedan_data.groupby('paint_color')['price'].describe()"
   ]
  },
  {
   "cell_type": "code",
   "execution_count": 73,
   "metadata": {},
   "outputs": [
    {
     "data": {
      "image/png": "[encoded data removed]",
      "text/plain": [
       "<Figure size 720x360 with 1 Axes>"
      ]
     },
     "metadata": {
      "needs_background": "light"
     },
     "output_type": "display_data"
    }
   ],
   "source": [
    "# paint color boxplot\n",
    "# there are too little of purple, orange and yellow, and 'other' isn't informative enough, so I exclude them.\n",
    "sedan_data.query('paint_color != [\"purple\", \"yellow\", \"other\", \"orange\"]')[['price', 'paint_color']].boxplot(figsize=(10, 5), by='paint_color', rot = 45)\n",
    "plt.title('Correlation between paint color and price', fontsize = 16)\n",
    "plt.ylabel('Price', fontsize = 14)\n",
    "plt.xlabel('Paint color', fontsize = 14)\n",
    "plt.show()"
   ]
  },
  {
   "cell_type": "code",
   "execution_count": 74,
   "metadata": {},
   "outputs": [
    {
     "data": {
      "text/html": [
       "<div>\n",
       "<style scoped>\n",
       "    .dataframe tbody tr th:only-of-type {\n",
       "        vertical-align: middle;\n",
       "    }\n",
       "\n",
       "    .dataframe tbody tr th {\n",
       "        vertical-align: top;\n",
       "    }\n",
       "\n",
       "    .dataframe thead th {\n",
       "        text-align: right;\n",
       "    }\n",
       "</style>\n",
       "<table border=\"1\" class=\"dataframe\">\n",
       "  <thead>\n",
       "    <tr style=\"text-align: right;\">\n",
       "      <th></th>\n",
       "      <th>count</th>\n",
       "      <th>mean</th>\n",
       "      <th>std</th>\n",
       "      <th>min</th>\n",
       "      <th>25%</th>\n",
       "      <th>50%</th>\n",
       "      <th>75%</th>\n",
       "      <th>max</th>\n",
       "    </tr>\n",
       "    <tr>\n",
       "      <th>transmission</th>\n",
       "      <th></th>\n",
       "      <th></th>\n",
       "      <th></th>\n",
       "      <th></th>\n",
       "      <th></th>\n",
       "      <th></th>\n",
       "      <th></th>\n",
       "      <th></th>\n",
       "    </tr>\n",
       "  </thead>\n",
       "  <tbody>\n",
       "    <tr>\n",
       "      <th>automatic</th>\n",
       "      <td>10128.0</td>\n",
       "      <td>6808.229858</td>\n",
       "      <td>3796.370114</td>\n",
       "      <td>500.0</td>\n",
       "      <td>3995.0</td>\n",
       "      <td>5995.0</td>\n",
       "      <td>8950.00</td>\n",
       "      <td>31000.0</td>\n",
       "    </tr>\n",
       "    <tr>\n",
       "      <th>manual</th>\n",
       "      <td>527.0</td>\n",
       "      <td>5255.774194</td>\n",
       "      <td>3382.674182</td>\n",
       "      <td>500.0</td>\n",
       "      <td>2950.0</td>\n",
       "      <td>4500.0</td>\n",
       "      <td>6550.00</td>\n",
       "      <td>25000.0</td>\n",
       "    </tr>\n",
       "    <tr>\n",
       "      <th>other</th>\n",
       "      <td>60.0</td>\n",
       "      <td>7113.783333</td>\n",
       "      <td>3667.468785</td>\n",
       "      <td>1800.0</td>\n",
       "      <td>4850.0</td>\n",
       "      <td>5969.0</td>\n",
       "      <td>8812.25</td>\n",
       "      <td>20700.0</td>\n",
       "    </tr>\n",
       "  </tbody>\n",
       "</table>\n",
       "</div>"
      ],
      "text/plain": [
       "                count         mean          std     min     25%     50%  \\\n",
       "transmission                                                              \n",
       "automatic     10128.0  6808.229858  3796.370114   500.0  3995.0  5995.0   \n",
       "manual          527.0  5255.774194  3382.674182   500.0  2950.0  4500.0   \n",
       "other            60.0  7113.783333  3667.468785  1800.0  4850.0  5969.0   \n",
       "\n",
       "                  75%      max  \n",
       "transmission                    \n",
       "automatic     8950.00  31000.0  \n",
       "manual        6550.00  25000.0  \n",
       "other         8812.25  20700.0  "
      ]
     },
     "execution_count": 74,
     "metadata": {},
     "output_type": "execute_result"
    }
   ],
   "source": [
    "# numerical description of prices by transmission\n",
    "sedan_data.groupby('transmission')['price'].describe()"
   ]
  },
  {
   "cell_type": "code",
   "execution_count": 75,
   "metadata": {},
   "outputs": [
    {
     "data": {
      "image/png": "[encoded data removed]",
      "text/plain": [
       "<Figure size 720x360 with 1 Axes>"
      ]
     },
     "metadata": {
      "needs_background": "light"
     },
     "output_type": "display_data"
    }
   ],
   "source": [
    "# Transmission type boxplot\n",
    "# I exclude 'other' because it has too little values\n",
    "sedan_data.query('transmission != \"other\"')[['price', 'transmission']].boxplot(figsize=(10, 5), by='transmission', rot = 0)\n",
    "plt.title('Correlation between transmission type and price', fontsize = 16)\n",
    "plt.ylabel('Price', fontsize = 14)\n",
    "plt.xlabel('Transmission type', fontsize = 14)\n",
    "plt.show()"
   ]
  },
  {
   "cell_type": "markdown",
   "metadata": {},
   "source": [
    "### Sedan conclusion:\n",
    "\n",
    "* *Vehicle's age*: there is quite strong negative correlation between price and vehicle's age: the price grows as the vehicle's age declines.\n",
    "\n",
    "\n",
    "* *Odometer*: odometer values are also have negative correlation to price values, and the lower odometer value is, the higher would be the price. \n",
    "\n",
    "\n",
    "* *Mileage per year*: in sedans mileage also has mild positive correlation with price values. The prices peak seem to appear somewhere between mileage 7500 and 17500 values.\n",
    "\n",
    "\n",
    "* *Condition*: condition and prices have mild positive correlation, so the better condition is, the higher would be the price.\n",
    "\n",
    "\n",
    "* *Paint color*: like with the SUV's, in sedans the most expensive color is also the black, and the second expensive is white. But the cheapest sedan color is green. \n",
    "\n",
    "\n",
    "* *Transmission*: sedans with automatic transmissions are considerably more expensive than those with manual transmission."
   ]
  },
  {
   "cell_type": "markdown",
   "metadata": {},
   "source": [
    "<br><br>\n",
    "[^^^ Back to the Table of Contents ^^^](#Table-of-Contents:)"
   ]
  },
  {
   "cell_type": "markdown",
   "metadata": {},
   "source": [
    "## Overall conclusion"
   ]
  },
  {
   "cell_type": "markdown",
   "metadata": {},
   "source": [
    "In this assignment I had to analyze car ads that was posted at online platform. I had to find which factors influence the price the most.\n",
    "\n",
    "First, I had to preprocess the data: I filled or disposed of empty cells, categorized free text values, checked for duplicates (surprisingly, there was none), identified outliers using explorative graphical analysis tools and filtered them out.\n",
    "\n",
    "Then I checked what types of cars are most popular and conducted analysis on them. Here are my findings:\n",
    "\n",
    "\n",
    " * In both categories vehicle's age and odometer values have the strongest influence on price: the lower they are, the higher the price.\n",
    " \n",
    " \n",
    " * There is no straightforward correlation between annual mileage and price, but there are some ranges of mileage values in each type category in which prices are higher. For SUV's it's roughly 10 to 20 thousand per year, and for sedan - 7.5 to 17.5 thousand per year.\n",
    " \n",
    " \n",
    " * Condition affects price, but not as strongly as I would expect. There are other factors that more imporant (like vehicle's age and odometer values).\n",
    " \n",
    " \n",
    " * The most expensive cars in both car types are black, and then white. \n",
    " \n",
    " \n",
    " * The main difference in how price influenced in SUV's and sedans is that in SUV manual transmission cars are slightly more expensive, and to the contrary, in sedans manual transmission cars are significantly cheaper.\n",
    " \n",
    " \n",
    " * Typical most expensive car is black, it has low age (the closer to 0, the better), low odometer value (same here), it is in an excellent (or better) condition, and it has annual mileage is somewhere between 10 to 17.5 thousand.\n",
    " \n",
    " \n",
    " * To the contrary, typical cheap car would be with extremely high odometer values (around 250k), 25 years old and in bad condition. It's annual mileage would be over 30 thousand."
   ]
  },
  {
   "cell_type": "markdown",
   "metadata": {},
   "source": [
    "<br><br>\n",
    "[^^^ Back to the Table of Contents ^^^](#Table-of-Contents:)"
   ]
  }
 ],
 "metadata": {
  "ExecuteTimeLog": [
   {
    "duration": 993,
    "start_time": "2021-10-28T19:58:50.447Z"
   },
   {
    "duration": 2133,
    "start_time": "2021-10-28T19:58:51.443Z"
   },
   {
    "duration": -514,
    "start_time": "2021-10-28T19:58:54.097Z"
   },
   {
    "duration": -519,
    "start_time": "2021-10-28T19:58:54.103Z"
   },
   {
    "duration": -521,
    "start_time": "2021-10-28T19:58:54.107Z"
   },
   {
    "duration": -524,
    "start_time": "2021-10-28T19:58:54.112Z"
   },
   {
    "duration": -529,
    "start_time": "2021-10-28T19:58:54.118Z"
   },
   {
    "duration": -534,
    "start_time": "2021-10-28T19:58:54.125Z"
   },
   {
    "duration": -538,
    "start_time": "2021-10-28T19:58:54.130Z"
   },
   {
    "duration": -540,
    "start_time": "2021-10-28T19:58:54.134Z"
   },
   {
    "duration": -544,
    "start_time": "2021-10-28T19:58:54.139Z"
   },
   {
    "duration": -546,
    "start_time": "2021-10-28T19:58:54.143Z"
   },
   {
    "duration": -550,
    "start_time": "2021-10-28T19:58:54.149Z"
   },
   {
    "duration": -554,
    "start_time": "2021-10-28T19:58:54.154Z"
   },
   {
    "duration": -556,
    "start_time": "2021-10-28T19:58:54.158Z"
   },
   {
    "duration": -569,
    "start_time": "2021-10-28T19:58:54.172Z"
   },
   {
    "duration": -573,
    "start_time": "2021-10-28T19:58:54.178Z"
   },
   {
    "duration": -576,
    "start_time": "2021-10-28T19:58:54.182Z"
   },
   {
    "duration": -579,
    "start_time": "2021-10-28T19:58:54.187Z"
   },
   {
    "duration": -581,
    "start_time": "2021-10-28T19:58:54.190Z"
   },
   {
    "duration": -583,
    "start_time": "2021-10-28T19:58:54.194Z"
   },
   {
    "duration": -587,
    "start_time": "2021-10-28T19:58:54.199Z"
   },
   {
    "duration": -589,
    "start_time": "2021-10-28T19:58:54.203Z"
   },
   {
    "duration": -592,
    "start_time": "2021-10-28T19:58:54.207Z"
   },
   {
    "duration": -601,
    "start_time": "2021-10-28T19:58:54.218Z"
   },
   {
    "duration": -604,
    "start_time": "2021-10-28T19:58:54.222Z"
   },
   {
    "duration": -559,
    "start_time": "2021-10-28T19:58:54.226Z"
   },
   {
    "duration": -561,
    "start_time": "2021-10-28T19:58:54.230Z"
   },
   {
    "duration": -565,
    "start_time": "2021-10-28T19:58:54.235Z"
   },
   {
    "duration": -567,
    "start_time": "2021-10-28T19:58:54.239Z"
   },
   {
    "duration": -569,
    "start_time": "2021-10-28T19:58:54.243Z"
   },
   {
    "duration": -572,
    "start_time": "2021-10-28T19:58:54.247Z"
   },
   {
    "duration": -575,
    "start_time": "2021-10-28T19:58:54.252Z"
   },
   {
    "duration": -857,
    "start_time": "2021-10-28T19:58:54.536Z"
   },
   {
    "duration": -890,
    "start_time": "2021-10-28T19:58:54.570Z"
   },
   {
    "duration": -915,
    "start_time": "2021-10-28T19:58:54.597Z"
   },
   {
    "duration": -1080,
    "start_time": "2021-10-28T19:58:54.763Z"
   },
   {
    "duration": -1319,
    "start_time": "2021-10-28T19:58:55.004Z"
   },
   {
    "duration": -1394,
    "start_time": "2021-10-28T19:58:55.081Z"
   },
   {
    "duration": -1397,
    "start_time": "2021-10-28T19:58:55.085Z"
   },
   {
    "duration": -1400,
    "start_time": "2021-10-28T19:58:55.090Z"
   },
   {
    "duration": -1402,
    "start_time": "2021-10-28T19:58:55.093Z"
   },
   {
    "duration": -1404,
    "start_time": "2021-10-28T19:58:55.097Z"
   },
   {
    "duration": -1408,
    "start_time": "2021-10-28T19:58:55.102Z"
   },
   {
    "duration": -1411,
    "start_time": "2021-10-28T19:58:55.107Z"
   },
   {
    "duration": -1413,
    "start_time": "2021-10-28T19:58:55.110Z"
   },
   {
    "duration": -1414,
    "start_time": "2021-10-28T19:58:55.114Z"
   },
   {
    "duration": -1416,
    "start_time": "2021-10-28T19:58:55.118Z"
   },
   {
    "duration": -1419,
    "start_time": "2021-10-28T19:58:55.122Z"
   },
   {
    "duration": -1421,
    "start_time": "2021-10-28T19:58:55.125Z"
   },
   {
    "duration": -1427,
    "start_time": "2021-10-28T19:58:55.133Z"
   },
   {
    "duration": -1369,
    "start_time": "2021-10-28T19:58:55.137Z"
   },
   {
    "duration": -1372,
    "start_time": "2021-10-28T19:58:55.142Z"
   },
   {
    "duration": -1373,
    "start_time": "2021-10-28T19:58:55.145Z"
   },
   {
    "duration": -1377,
    "start_time": "2021-10-28T19:58:55.150Z"
   },
   {
    "duration": -1378,
    "start_time": "2021-10-28T19:58:55.153Z"
   },
   {
    "duration": -1389,
    "start_time": "2021-10-28T19:58:55.165Z"
   },
   {
    "duration": -1392,
    "start_time": "2021-10-28T19:58:55.169Z"
   },
   {
    "duration": -1395,
    "start_time": "2021-10-28T19:58:55.173Z"
   },
   {
    "duration": -1397,
    "start_time": "2021-10-28T19:58:55.177Z"
   },
   {
    "duration": -1401,
    "start_time": "2021-10-28T19:58:55.182Z"
   },
   {
    "duration": -1402,
    "start_time": "2021-10-28T19:58:55.185Z"
   },
   {
    "duration": -1405,
    "start_time": "2021-10-28T19:58:55.189Z"
   },
   {
    "duration": -1408,
    "start_time": "2021-10-28T19:58:55.193Z"
   },
   {
    "duration": -1411,
    "start_time": "2021-10-28T19:58:55.197Z"
   },
   {
    "duration": -1413,
    "start_time": "2021-10-28T19:58:55.201Z"
   },
   {
    "duration": -1416,
    "start_time": "2021-10-28T19:58:55.205Z"
   },
   {
    "duration": -1417,
    "start_time": "2021-10-28T19:58:55.208Z"
   },
   {
    "duration": -1420,
    "start_time": "2021-10-28T19:58:55.212Z"
   },
   {
    "duration": -1423,
    "start_time": "2021-10-28T19:58:55.216Z"
   },
   {
    "duration": -1425,
    "start_time": "2021-10-28T19:58:55.220Z"
   },
   {
    "duration": -1427,
    "start_time": "2021-10-28T19:58:55.223Z"
   },
   {
    "duration": -1430,
    "start_time": "2021-10-28T19:58:55.227Z"
   },
   {
    "duration": -1432,
    "start_time": "2021-10-28T19:58:55.231Z"
   },
   {
    "duration": -1435,
    "start_time": "2021-10-28T19:58:55.235Z"
   },
   {
    "duration": 872,
    "start_time": "2021-10-28T20:01:05.509Z"
   },
   {
    "duration": 115,
    "start_time": "2021-10-28T20:01:06.383Z"
   },
   {
    "duration": 47,
    "start_time": "2021-10-28T20:01:06.501Z"
   },
   {
    "duration": 67,
    "start_time": "2021-10-28T20:01:06.551Z"
   },
   {
    "duration": 9,
    "start_time": "2021-10-28T20:01:06.620Z"
   },
   {
    "duration": 59,
    "start_time": "2021-10-28T20:01:06.631Z"
   },
   {
    "duration": 14,
    "start_time": "2021-10-28T20:01:06.692Z"
   },
   {
    "duration": 61,
    "start_time": "2021-10-28T20:01:06.710Z"
   },
   {
    "duration": 13,
    "start_time": "2021-10-28T20:01:06.774Z"
   },
   {
    "duration": 9,
    "start_time": "2021-10-28T20:01:06.790Z"
   },
   {
    "duration": 18,
    "start_time": "2021-10-28T20:01:06.801Z"
   },
   {
    "duration": 5,
    "start_time": "2021-10-28T20:01:06.822Z"
   },
   {
    "duration": 15,
    "start_time": "2021-10-28T20:01:06.868Z"
   },
   {
    "duration": 432,
    "start_time": "2021-10-28T20:01:06.886Z"
   },
   {
    "duration": -611,
    "start_time": "2021-10-28T20:01:07.934Z"
   },
   {
    "duration": -614,
    "start_time": "2021-10-28T20:01:07.938Z"
   },
   {
    "duration": -618,
    "start_time": "2021-10-28T20:01:07.943Z"
   },
   {
    "duration": -619,
    "start_time": "2021-10-28T20:01:07.946Z"
   },
   {
    "duration": -623,
    "start_time": "2021-10-28T20:01:07.951Z"
   },
   {
    "duration": -626,
    "start_time": "2021-10-28T20:01:07.955Z"
   },
   {
    "duration": -629,
    "start_time": "2021-10-28T20:01:07.959Z"
   },
   {
    "duration": -631,
    "start_time": "2021-10-28T20:01:07.963Z"
   },
   {
    "duration": -635,
    "start_time": "2021-10-28T20:01:07.968Z"
   },
   {
    "duration": -638,
    "start_time": "2021-10-28T20:01:07.972Z"
   },
   {
    "duration": -641,
    "start_time": "2021-10-28T20:01:07.977Z"
   },
   {
    "duration": -644,
    "start_time": "2021-10-28T20:01:07.981Z"
   },
   {
    "duration": -647,
    "start_time": "2021-10-28T20:01:07.985Z"
   },
   {
    "duration": -650,
    "start_time": "2021-10-28T20:01:07.990Z"
   },
   {
    "duration": -680,
    "start_time": "2021-10-28T20:01:08.021Z"
   },
   {
    "duration": -686,
    "start_time": "2021-10-28T20:01:08.028Z"
   },
   {
    "duration": -690,
    "start_time": "2021-10-28T20:01:08.033Z"
   },
   {
    "duration": -692,
    "start_time": "2021-10-28T20:01:08.037Z"
   },
   {
    "duration": -696,
    "start_time": "2021-10-28T20:01:08.042Z"
   },
   {
    "duration": -698,
    "start_time": "2021-10-28T20:01:08.046Z"
   },
   {
    "duration": -702,
    "start_time": "2021-10-28T20:01:08.051Z"
   },
   {
    "duration": -705,
    "start_time": "2021-10-28T20:01:08.055Z"
   },
   {
    "duration": -709,
    "start_time": "2021-10-28T20:01:08.060Z"
   },
   {
    "duration": -713,
    "start_time": "2021-10-28T20:01:08.065Z"
   },
   {
    "duration": -715,
    "start_time": "2021-10-28T20:01:08.069Z"
   },
   {
    "duration": -719,
    "start_time": "2021-10-28T20:01:08.074Z"
   },
   {
    "duration": -723,
    "start_time": "2021-10-28T20:01:08.079Z"
   },
   {
    "duration": -726,
    "start_time": "2021-10-28T20:01:08.084Z"
   },
   {
    "duration": -722,
    "start_time": "2021-10-28T20:01:08.088Z"
   },
   {
    "duration": -725,
    "start_time": "2021-10-28T20:01:08.093Z"
   },
   {
    "duration": -727,
    "start_time": "2021-10-28T20:01:08.097Z"
   },
   {
    "duration": -731,
    "start_time": "2021-10-28T20:01:08.102Z"
   },
   {
    "duration": -734,
    "start_time": "2021-10-28T20:01:08.106Z"
   },
   {
    "duration": -737,
    "start_time": "2021-10-28T20:01:08.110Z"
   },
   {
    "duration": -740,
    "start_time": "2021-10-28T20:01:08.114Z"
   },
   {
    "duration": -752,
    "start_time": "2021-10-28T20:01:08.128Z"
   },
   {
    "duration": -755,
    "start_time": "2021-10-28T20:01:08.132Z"
   },
   {
    "duration": -761,
    "start_time": "2021-10-28T20:01:08.139Z"
   },
   {
    "duration": -765,
    "start_time": "2021-10-28T20:01:08.144Z"
   },
   {
    "duration": -767,
    "start_time": "2021-10-28T20:01:08.148Z"
   },
   {
    "duration": -770,
    "start_time": "2021-10-28T20:01:08.152Z"
   },
   {
    "duration": -775,
    "start_time": "2021-10-28T20:01:08.158Z"
   },
   {
    "duration": -778,
    "start_time": "2021-10-28T20:01:08.162Z"
   },
   {
    "duration": -781,
    "start_time": "2021-10-28T20:01:08.166Z"
   },
   {
    "duration": -784,
    "start_time": "2021-10-28T20:01:08.171Z"
   },
   {
    "duration": -787,
    "start_time": "2021-10-28T20:01:08.175Z"
   },
   {
    "duration": -790,
    "start_time": "2021-10-28T20:01:08.179Z"
   },
   {
    "duration": -792,
    "start_time": "2021-10-28T20:01:08.183Z"
   },
   {
    "duration": -798,
    "start_time": "2021-10-28T20:01:08.190Z"
   },
   {
    "duration": -801,
    "start_time": "2021-10-28T20:01:08.194Z"
   },
   {
    "duration": -809,
    "start_time": "2021-10-28T20:01:08.203Z"
   },
   {
    "duration": -811,
    "start_time": "2021-10-28T20:01:08.207Z"
   },
   {
    "duration": -814,
    "start_time": "2021-10-28T20:01:08.211Z"
   },
   {
    "duration": -816,
    "start_time": "2021-10-28T20:01:08.214Z"
   },
   {
    "duration": -819,
    "start_time": "2021-10-28T20:01:08.219Z"
   },
   {
    "duration": -822,
    "start_time": "2021-10-28T20:01:08.223Z"
   },
   {
    "duration": -834,
    "start_time": "2021-10-28T20:01:08.236Z"
   },
   {
    "duration": -836,
    "start_time": "2021-10-28T20:01:08.240Z"
   },
   {
    "duration": -839,
    "start_time": "2021-10-28T20:01:08.244Z"
   },
   {
    "duration": -842,
    "start_time": "2021-10-28T20:01:08.248Z"
   },
   {
    "duration": -786,
    "start_time": "2021-10-28T20:01:08.253Z"
   },
   {
    "duration": 921,
    "start_time": "2021-10-28T20:05:18.755Z"
   },
   {
    "duration": 122,
    "start_time": "2021-10-28T20:05:19.678Z"
   },
   {
    "duration": 64,
    "start_time": "2021-10-28T20:05:19.804Z"
   },
   {
    "duration": 58,
    "start_time": "2021-10-28T20:05:19.872Z"
   },
   {
    "duration": 36,
    "start_time": "2021-10-28T20:05:19.933Z"
   },
   {
    "duration": 30,
    "start_time": "2021-10-28T20:05:19.972Z"
   },
   {
    "duration": 17,
    "start_time": "2021-10-28T20:05:20.005Z"
   },
   {
    "duration": 69,
    "start_time": "2021-10-28T20:05:20.026Z"
   },
   {
    "duration": 16,
    "start_time": "2021-10-28T20:05:20.099Z"
   },
   {
    "duration": 10,
    "start_time": "2021-10-28T20:05:20.117Z"
   },
   {
    "duration": 50,
    "start_time": "2021-10-28T20:05:20.130Z"
   },
   {
    "duration": 6,
    "start_time": "2021-10-28T20:05:20.182Z"
   },
   {
    "duration": 23,
    "start_time": "2021-10-28T20:05:20.190Z"
   },
   {
    "duration": 366,
    "start_time": "2021-10-28T20:05:20.215Z"
   },
   {
    "duration": -546,
    "start_time": "2021-10-28T20:05:21.132Z"
   },
   {
    "duration": -549,
    "start_time": "2021-10-28T20:05:21.136Z"
   },
   {
    "duration": -551,
    "start_time": "2021-10-28T20:05:21.140Z"
   },
   {
    "duration": -554,
    "start_time": "2021-10-28T20:05:21.144Z"
   },
   {
    "duration": -566,
    "start_time": "2021-10-28T20:05:21.158Z"
   },
   {
    "duration": -569,
    "start_time": "2021-10-28T20:05:21.163Z"
   },
   {
    "duration": -573,
    "start_time": "2021-10-28T20:05:21.168Z"
   },
   {
    "duration": -574,
    "start_time": "2021-10-28T20:05:21.171Z"
   },
   {
    "duration": -579,
    "start_time": "2021-10-28T20:05:21.177Z"
   },
   {
    "duration": -583,
    "start_time": "2021-10-28T20:05:21.182Z"
   },
   {
    "duration": -585,
    "start_time": "2021-10-28T20:05:21.186Z"
   },
   {
    "duration": -588,
    "start_time": "2021-10-28T20:05:21.190Z"
   },
   {
    "duration": -591,
    "start_time": "2021-10-28T20:05:21.195Z"
   },
   {
    "duration": -594,
    "start_time": "2021-10-28T20:05:21.199Z"
   },
   {
    "duration": -607,
    "start_time": "2021-10-28T20:05:21.213Z"
   },
   {
    "duration": -610,
    "start_time": "2021-10-28T20:05:21.218Z"
   },
   {
    "duration": -613,
    "start_time": "2021-10-28T20:05:21.222Z"
   },
   {
    "duration": -615,
    "start_time": "2021-10-28T20:05:21.226Z"
   },
   {
    "duration": -619,
    "start_time": "2021-10-28T20:05:21.231Z"
   },
   {
    "duration": -620,
    "start_time": "2021-10-28T20:05:21.234Z"
   },
   {
    "duration": -624,
    "start_time": "2021-10-28T20:05:21.239Z"
   },
   {
    "duration": -626,
    "start_time": "2021-10-28T20:05:21.242Z"
   },
   {
    "duration": -629,
    "start_time": "2021-10-28T20:05:21.247Z"
   },
   {
    "duration": -639,
    "start_time": "2021-10-28T20:05:21.258Z"
   },
   {
    "duration": -643,
    "start_time": "2021-10-28T20:05:21.263Z"
   },
   {
    "duration": -644,
    "start_time": "2021-10-28T20:05:21.266Z"
   },
   {
    "duration": -604,
    "start_time": "2021-10-28T20:05:21.271Z"
   },
   {
    "duration": -606,
    "start_time": "2021-10-28T20:05:21.275Z"
   },
   {
    "duration": -610,
    "start_time": "2021-10-28T20:05:21.280Z"
   },
   {
    "duration": -612,
    "start_time": "2021-10-28T20:05:21.284Z"
   },
   {
    "duration": -617,
    "start_time": "2021-10-28T20:05:21.290Z"
   },
   {
    "duration": -620,
    "start_time": "2021-10-28T20:05:21.294Z"
   },
   {
    "duration": -821,
    "start_time": "2021-10-28T20:05:21.497Z"
   },
   {
    "duration": -823,
    "start_time": "2021-10-28T20:05:21.501Z"
   },
   {
    "duration": -844,
    "start_time": "2021-10-28T20:05:21.523Z"
   },
   {
    "duration": -845,
    "start_time": "2021-10-28T20:05:21.526Z"
   },
   {
    "duration": -866,
    "start_time": "2021-10-28T20:05:21.548Z"
   },
   {
    "duration": -883,
    "start_time": "2021-10-28T20:05:21.567Z"
   },
   {
    "duration": -887,
    "start_time": "2021-10-28T20:05:21.572Z"
   },
   {
    "duration": -911,
    "start_time": "2021-10-28T20:05:21.598Z"
   },
   {
    "duration": -1054,
    "start_time": "2021-10-28T20:05:21.742Z"
   },
   {
    "duration": -1184,
    "start_time": "2021-10-28T20:05:21.874Z"
   },
   {
    "duration": -1213,
    "start_time": "2021-10-28T20:05:21.904Z"
   },
   {
    "duration": -1221,
    "start_time": "2021-10-28T20:05:21.914Z"
   },
   {
    "duration": -1224,
    "start_time": "2021-10-28T20:05:21.918Z"
   },
   {
    "duration": -1226,
    "start_time": "2021-10-28T20:05:21.922Z"
   },
   {
    "duration": -1230,
    "start_time": "2021-10-28T20:05:21.927Z"
   },
   {
    "duration": -1232,
    "start_time": "2021-10-28T20:05:21.931Z"
   },
   {
    "duration": -1235,
    "start_time": "2021-10-28T20:05:21.935Z"
   },
   {
    "duration": -1237,
    "start_time": "2021-10-28T20:05:21.939Z"
   },
   {
    "duration": -1239,
    "start_time": "2021-10-28T20:05:21.943Z"
   },
   {
    "duration": -1242,
    "start_time": "2021-10-28T20:05:21.947Z"
   },
   {
    "duration": -1245,
    "start_time": "2021-10-28T20:05:21.952Z"
   },
   {
    "duration": -1189,
    "start_time": "2021-10-28T20:05:21.956Z"
   },
   {
    "duration": -1191,
    "start_time": "2021-10-28T20:05:21.960Z"
   },
   {
    "duration": -1194,
    "start_time": "2021-10-28T20:05:21.964Z"
   },
   {
    "duration": -1196,
    "start_time": "2021-10-28T20:05:21.968Z"
   },
   {
    "duration": -1199,
    "start_time": "2021-10-28T20:05:21.972Z"
   },
   {
    "duration": -1202,
    "start_time": "2021-10-28T20:05:21.976Z"
   },
   {
    "duration": -1204,
    "start_time": "2021-10-28T20:05:21.980Z"
   },
   {
    "duration": -1207,
    "start_time": "2021-10-28T20:05:21.984Z"
   },
   {
    "duration": 11,
    "start_time": "2021-10-28T20:12:28.441Z"
   },
   {
    "duration": 13,
    "start_time": "2021-10-28T20:12:30.298Z"
   },
   {
    "duration": 16,
    "start_time": "2021-10-28T20:12:32.673Z"
   },
   {
    "duration": 8,
    "start_time": "2021-10-28T20:12:34.401Z"
   },
   {
    "duration": 31,
    "start_time": "2021-10-28T20:12:38.256Z"
   },
   {
    "duration": 41,
    "start_time": "2021-10-28T20:12:41.161Z"
   },
   {
    "duration": 19,
    "start_time": "2021-10-28T20:12:47.272Z"
   },
   {
    "duration": 37,
    "start_time": "2021-10-28T20:13:02.578Z"
   },
   {
    "duration": 28,
    "start_time": "2021-10-28T20:13:04.567Z"
   },
   {
    "duration": 47,
    "start_time": "2021-10-28T20:13:10.519Z"
   },
   {
    "duration": 18,
    "start_time": "2021-10-28T20:13:12.944Z"
   },
   {
    "duration": 44,
    "start_time": "2021-10-28T20:18:33.953Z"
   },
   {
    "duration": 6,
    "start_time": "2021-10-28T20:18:37.185Z"
   },
   {
    "duration": 13,
    "start_time": "2021-10-28T20:18:37.984Z"
   },
   {
    "duration": 14,
    "start_time": "2021-10-28T20:19:24.820Z"
   },
   {
    "duration": 11,
    "start_time": "2021-10-28T20:19:34.690Z"
   },
   {
    "duration": 18,
    "start_time": "2021-10-28T20:19:40.244Z"
   },
   {
    "duration": 20,
    "start_time": "2021-10-28T20:19:46.698Z"
   },
   {
    "duration": 23,
    "start_time": "2021-10-28T20:19:51.299Z"
   },
   {
    "duration": 11,
    "start_time": "2021-10-28T20:20:07.612Z"
   },
   {
    "duration": 2488,
    "start_time": "2021-10-28T20:20:37.232Z"
   },
   {
    "duration": 239,
    "start_time": "2021-10-28T20:20:44.473Z"
   },
   {
    "duration": 554,
    "start_time": "2021-10-28T20:20:46.778Z"
   },
   {
    "duration": 220,
    "start_time": "2021-10-28T20:20:51.115Z"
   },
   {
    "duration": 343,
    "start_time": "2021-10-28T20:20:52.953Z"
   },
   {
    "duration": 225,
    "start_time": "2021-10-28T20:20:55.070Z"
   },
   {
    "duration": 9,
    "start_time": "2021-10-28T20:20:59.715Z"
   },
   {
    "duration": 9,
    "start_time": "2021-10-28T20:21:01.993Z"
   },
   {
    "duration": 9,
    "start_time": "2021-10-28T20:21:04.890Z"
   },
   {
    "duration": 8,
    "start_time": "2021-10-28T20:21:06.317Z"
   },
   {
    "duration": 23,
    "start_time": "2021-10-28T20:26:24.331Z"
   },
   {
    "duration": 21,
    "start_time": "2021-10-28T20:26:54.604Z"
   },
   {
    "duration": 2173,
    "start_time": "2021-10-28T20:28:02.296Z"
   },
   {
    "duration": 18,
    "start_time": "2021-10-28T20:28:09.012Z"
   },
   {
    "duration": 15,
    "start_time": "2021-10-28T20:28:12.995Z"
   },
   {
    "duration": 11,
    "start_time": "2021-10-28T20:28:15.116Z"
   },
   {
    "duration": 437,
    "start_time": "2021-10-28T20:28:16.892Z"
   },
   {
    "duration": 19,
    "start_time": "2021-10-28T20:28:19.499Z"
   },
   {
    "duration": 12,
    "start_time": "2021-10-28T20:28:22.874Z"
   },
   {
    "duration": 13,
    "start_time": "2021-10-28T20:28:47.394Z"
   },
   {
    "duration": 447,
    "start_time": "2021-10-28T20:28:48.187Z"
   },
   {
    "duration": 219,
    "start_time": "2021-10-28T20:28:50.795Z"
   },
   {
    "duration": 32,
    "start_time": "2021-10-28T20:28:53.365Z"
   },
   {
    "duration": 14,
    "start_time": "2021-10-28T20:28:54.962Z"
   },
   {
    "duration": 425,
    "start_time": "2021-10-28T20:29:13.952Z"
   },
   {
    "duration": 24,
    "start_time": "2021-10-28T20:30:56.404Z"
   },
   {
    "duration": 2233,
    "start_time": "2021-10-28T20:31:00.307Z"
   },
   {
    "duration": 13,
    "start_time": "2021-10-28T20:31:10.508Z"
   },
   {
    "duration": 34,
    "start_time": "2021-10-28T20:31:13.403Z"
   },
   {
    "duration": 382,
    "start_time": "2021-10-28T20:31:19.140Z"
   },
   {
    "duration": 59,
    "start_time": "2021-10-28T20:31:23.195Z"
   },
   {
    "duration": 639,
    "start_time": "2021-10-28T20:31:30.029Z"
   },
   {
    "duration": 30,
    "start_time": "2021-10-28T20:31:34.842Z"
   },
   {
    "duration": 381,
    "start_time": "2021-10-28T20:31:37.001Z"
   },
   {
    "duration": 24,
    "start_time": "2021-10-28T20:37:58.151Z"
   },
   {
    "duration": 1604,
    "start_time": "2021-10-28T20:38:00.031Z"
   },
   {
    "duration": 14,
    "start_time": "2021-10-28T20:38:06.646Z"
   },
   {
    "duration": 37,
    "start_time": "2021-10-28T20:38:07.183Z"
   },
   {
    "duration": 406,
    "start_time": "2021-10-28T20:38:07.786Z"
   },
   {
    "duration": 61,
    "start_time": "2021-10-28T20:38:08.362Z"
   },
   {
    "duration": 550,
    "start_time": "2021-10-28T20:38:08.983Z"
   },
   {
    "duration": 30,
    "start_time": "2021-10-28T20:38:09.750Z"
   },
   {
    "duration": 436,
    "start_time": "2021-10-28T20:38:10.310Z"
   }
  ],
  "kernelspec": {
   "display_name": "Python 3",
   "language": "python",
   "name": "python3"
  },
  "language_info": {
   "codemirror_mode": {
    "name": "ipython",
    "version": 3
   },
   "file_extension": ".py",
   "mimetype": "text/x-python",
   "name": "python",
   "nbconvert_exporter": "python",
   "pygments_lexer": "ipython3",
   "version": "3.8.8"
  },
  "toc": {
   "base_numbering": 1,
   "nav_menu": {},
   "number_sections": true,
   "sideBar": true,
   "skip_h1_title": true,
   "title_cell": "Table of Contents",
   "title_sidebar": "Contents",
   "toc_cell": false,
   "toc_position": {},
   "toc_section_display": true,
   "toc_window_display": false
  }
 },
 "nbformat": 4,
 "nbformat_minor": 2
}
